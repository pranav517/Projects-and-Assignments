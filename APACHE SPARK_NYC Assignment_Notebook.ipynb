{
 "cells": [
  {
   "cell_type": "code",
   "execution_count": 1,
   "metadata": {},
   "outputs": [],
   "source": [
    "#Creating a spark session\n",
    "from pyspark.sql import SparkSession\n",
    "spark=SparkSession.builder.appName(\"PySpark DataFrame and Sql\").getOrCreate()"
   ]
  },
  {
   "cell_type": "code",
   "execution_count": 2,
   "metadata": {},
   "outputs": [],
   "source": [
    "#Importing the data\n",
    "df=spark.read.csv('/common_folder/nyc_parking/Parking_Violations_Issued_-_Fiscal_Year_2017.csv',header=True,inferSchema=True)"
   ]
  },
  {
   "cell_type": "code",
   "execution_count": 74,
   "metadata": {},
   "outputs": [
    {
     "name": "stdout",
     "output_type": "stream",
     "text": [
      "+--------------+--------+------------------+-------------------+--------------+-----------------+------------+------------------+---------------+--------------+\n",
      "|Summons Number|Plate ID|Registration State|         Issue Date|Violation Code|Vehicle Body Type|Vehicle Make|Violation Precinct|Issuer Precinct|Violation Time|\n",
      "+--------------+--------+------------------+-------------------+--------------+-----------------+------------+------------------+---------------+--------------+\n",
      "|    5092469481| GZH7067|                NY|2016-07-10 00:00:00|             7|             SUBN|       TOYOT|                 0|              0|         0143A|\n",
      "|    5092451658| GZH7067|                NY|2016-07-08 00:00:00|             7|             SUBN|       TOYOT|                 0|              0|         0400P|\n",
      "|    4006265037| FZX9232|                NY|2016-08-23 00:00:00|             5|             SUBN|        FORD|                 0|              0|         0233P|\n",
      "|    8478629828| 66623ME|                NY|2017-06-14 00:00:00|            47|             REFG|       MITSU|                14|             14|         1120A|\n",
      "|    7868300310| 37033JV|                NY|2016-11-21 00:00:00|            69|             DELV|       INTER|                13|             13|         0555P|\n",
      "+--------------+--------+------------------+-------------------+--------------+-----------------+------------+------------------+---------------+--------------+\n",
      "only showing top 5 rows\n",
      "\n"
     ]
    }
   ],
   "source": [
    "#Inspecting the dataframe\n",
    "df.show(5)"
   ]
  },
  {
   "cell_type": "code",
   "execution_count": 5,
   "metadata": {},
   "outputs": [],
   "source": [
    "# Filtering data for 2017 year\n",
    "from pyspark.sql.functions import col\n",
    "df_2017 = df.filter(col(\"Issue Date\").startswith(\"2017\"))"
   ]
  },
  {
   "cell_type": "code",
   "execution_count": 76,
   "metadata": {},
   "outputs": [
    {
     "name": "stdout",
     "output_type": "stream",
     "text": [
      "+--------------+--------+------------------+-------------------+--------------+-----------------+------------+------------------+---------------+--------------+\n",
      "|Summons Number|Plate ID|Registration State|         Issue Date|Violation Code|Vehicle Body Type|Vehicle Make|Violation Precinct|Issuer Precinct|Violation Time|\n",
      "+--------------+--------+------------------+-------------------+--------------+-----------------+------------+------------------+---------------+--------------+\n",
      "|    8478629828| 66623ME|                NY|2017-06-14 00:00:00|            47|             REFG|       MITSU|                14|             14|         1120A|\n",
      "|    5096917368| FZD8593|                NY|2017-06-13 00:00:00|             7|             SUBN|       ME/BE|                 0|              0|         0852P|\n",
      "|    1407740258| 2513JMG|                NY|2017-01-11 00:00:00|            78|             DELV|       FRUEH|               106|            106|         0015A|\n",
      "|    1413656420|T672371C|                NY|2017-02-04 00:00:00|            40|             TAXI|       TOYOT|                73|             73|         0525A|\n",
      "|    8480309064| 51771JW|                NY|2017-01-26 00:00:00|            64|              VAN|       INTER|                17|             17|         0256P|\n",
      "+--------------+--------+------------------+-------------------+--------------+-----------------+------------+------------------+---------------+--------------+\n",
      "only showing top 5 rows\n",
      "\n"
     ]
    }
   ],
   "source": [
    "df_2017.show(5)"
   ]
  },
  {
   "cell_type": "code",
   "execution_count": 3,
   "metadata": {},
   "outputs": [
    {
     "name": "stdout",
     "output_type": "stream",
     "text": [
      "root\n",
      " |-- Summons Number: long (nullable = true)\n",
      " |-- Plate ID: string (nullable = true)\n",
      " |-- Registration State: string (nullable = true)\n",
      " |-- Issue Date: timestamp (nullable = true)\n",
      " |-- Violation Code: integer (nullable = true)\n",
      " |-- Vehicle Body Type: string (nullable = true)\n",
      " |-- Vehicle Make: string (nullable = true)\n",
      " |-- Violation Precinct: integer (nullable = true)\n",
      " |-- Issuer Precinct: integer (nullable = true)\n",
      " |-- Violation Time: string (nullable = true)\n",
      "\n"
     ]
    }
   ],
   "source": [
    "df_2017.printSchema()"
   ]
  },
  {
   "cell_type": "code",
   "execution_count": 83,
   "metadata": {},
   "outputs": [
    {
     "name": "stdout",
     "output_type": "stream",
     "text": [
      "5431918\n"
     ]
    },
    {
     "data": {
      "text/plain": [
       "5431918"
      ]
     },
     "execution_count": 83,
     "metadata": {},
     "output_type": "execute_result"
    }
   ],
   "source": [
    "# Checking the missing data\n",
    "print(df_2017.count())\n",
    "df_2017.dropna(how='any').count()"
   ]
  },
  {
   "cell_type": "markdown",
   "metadata": {},
   "source": [
    "None of the rows has any missing data"
   ]
  },
  {
   "cell_type": "markdown",
   "metadata": {},
   "source": [
    "### Examining the data"
   ]
  },
  {
   "cell_type": "code",
   "execution_count": 84,
   "metadata": {},
   "outputs": [
    {
     "data": {
      "text/plain": [
       "5431918"
      ]
     },
     "execution_count": 84,
     "metadata": {},
     "output_type": "execute_result"
    }
   ],
   "source": [
    "# (1) Total number of tickets for the year\n",
    "df_2017.count()"
   ]
  },
  {
   "cell_type": "code",
   "execution_count": 85,
   "metadata": {},
   "outputs": [
    {
     "data": {
      "text/plain": [
       "65"
      ]
     },
     "execution_count": 85,
     "metadata": {},
     "output_type": "execute_result"
    }
   ],
   "source": [
    "# (2) Number of unique states from where the cars that got parking tickets came\n",
    "df_2017.select('Registration State').distinct().count()"
   ]
  },
  {
   "cell_type": "code",
   "execution_count": 6,
   "metadata": {
    "scrolled": true
   },
   "outputs": [
    {
     "name": "stdout",
     "output_type": "stream",
     "text": [
      "+------------------+-------+\n",
      "|Registration State|  count|\n",
      "+------------------+-------+\n",
      "|                NY|4273951|\n",
      "|                NJ| 475825|\n",
      "|                PA| 140286|\n",
      "|                CT|  70403|\n",
      "|                FL|  69468|\n",
      "|                IN|  45525|\n",
      "|                MA|  38941|\n",
      "|                VA|  34367|\n",
      "|                MD|  30213|\n",
      "|                NC|  27152|\n",
      "|                TX|  18827|\n",
      "|                IL|  18666|\n",
      "|                GA|  17537|\n",
      "|                99|  16055|\n",
      "|                AZ|  12379|\n",
      "|                OH|  12281|\n",
      "|                CA|  12153|\n",
      "|                ME|  10806|\n",
      "|                SC|  10395|\n",
      "|                MN|  10083|\n",
      "+------------------+-------+\n",
      "only showing top 20 rows\n",
      "\n"
     ]
    }
   ],
   "source": [
    "# Checking the count of tickets state wise\n",
    "from pyspark.sql.functions import col\n",
    "examine_df=df_2017.cube('Registration State').count().sort(col('count').desc()).dropna()\n",
    "examine_df.show()"
   ]
  },
  {
   "cell_type": "code",
   "execution_count": 81,
   "metadata": {},
   "outputs": [
    {
     "data": {
      "text/plain": [
       "<Figure size 3600x3600 with 0 Axes>"
      ]
     },
     "metadata": {},
     "output_type": "display_data"
    },
    {
     "data": {
      "image/png": "[encoded data removed]",
      "text/plain": [
       "<Figure size 432x288 with 1 Axes>"
      ]
     },
     "metadata": {},
     "output_type": "display_data"
    }
   ],
   "source": [
    "import pandas as pd\n",
    "import matplotlib.pyplot as plt\n",
    "plt.figure(figsize=(50,50))\n",
    "plt.clf()\n",
    "pdDF = examine_df.toPandas()\n",
    "pdDF.plot(x='Registration State', y='count', kind='line', rot=45)\n",
    "plt.show()"
   ]
  },
  {
   "cell_type": "code",
   "execution_count": 7,
   "metadata": {
    "scrolled": true
   },
   "outputs": [],
   "source": [
    "# Replacing the entry '99' by 'NY'\n",
    "from pyspark.sql.functions import when\n",
    "\n",
    "df_2017=df_2017.withColumn(\"Registration State1\",\\\n",
    "                when(df_2017[\"Registration State\"]=='99', 'NY').otherwise(df_2017['Registration State']))"
   ]
  },
  {
   "cell_type": "code",
   "execution_count": 88,
   "metadata": {},
   "outputs": [
    {
     "name": "stdout",
     "output_type": "stream",
     "text": [
      "+-------------------+-------+\n",
      "|Registration State1|  count|\n",
      "+-------------------+-------+\n",
      "|                 NY|4290006|\n",
      "|                 NJ| 475825|\n",
      "|                 PA| 140286|\n",
      "|                 CT|  70403|\n",
      "|                 FL|  69468|\n",
      "|                 IN|  45525|\n",
      "|                 MA|  38941|\n",
      "|                 VA|  34367|\n",
      "|                 MD|  30213|\n",
      "|                 NC|  27152|\n",
      "|                 TX|  18827|\n",
      "|                 IL|  18666|\n",
      "|                 GA|  17537|\n",
      "|                 AZ|  12379|\n",
      "|                 OH|  12281|\n",
      "|                 CA|  12153|\n",
      "|                 ME|  10806|\n",
      "|                 SC|  10395|\n",
      "|                 MN|  10083|\n",
      "|                 OK|   9088|\n",
      "+-------------------+-------+\n",
      "only showing top 20 rows\n",
      "\n"
     ]
    }
   ],
   "source": [
    "examine_df=df_2017.cube('Registration State1').count().sort(col('count').desc()).dropna()\n",
    "examine_df.show()"
   ]
  },
  {
   "cell_type": "code",
   "execution_count": 89,
   "metadata": {},
   "outputs": [
    {
     "data": {
      "text/plain": [
       "64"
      ]
     },
     "execution_count": 89,
     "metadata": {},
     "output_type": "execute_result"
    }
   ],
   "source": [
    "# Checkin the unique states again\n",
    "df_2017.select('Registration State1').distinct().count()"
   ]
  },
  {
   "cell_type": "code",
   "execution_count": 8,
   "metadata": {},
   "outputs": [],
   "source": [
    "df_2017=df_2017.drop('Registration State')"
   ]
  },
  {
   "cell_type": "code",
   "execution_count": 91,
   "metadata": {},
   "outputs": [
    {
     "name": "stdout",
     "output_type": "stream",
     "text": [
      "root\n",
      " |-- Summons Number: long (nullable = true)\n",
      " |-- Plate ID: string (nullable = true)\n",
      " |-- Issue Date: timestamp (nullable = true)\n",
      " |-- Violation Code: integer (nullable = true)\n",
      " |-- Vehicle Body Type: string (nullable = true)\n",
      " |-- Vehicle Make: string (nullable = true)\n",
      " |-- Violation Precinct: integer (nullable = true)\n",
      " |-- Issuer Precinct: integer (nullable = true)\n",
      " |-- Violation Time: string (nullable = true)\n",
      " |-- Registration State1: string (nullable = true)\n",
      "\n"
     ]
    }
   ],
   "source": [
    "df_2017.printSchema()"
   ]
  },
  {
   "cell_type": "markdown",
   "metadata": {},
   "source": [
    "### Aggregation Tasks"
   ]
  },
  {
   "cell_type": "code",
   "execution_count": 9,
   "metadata": {},
   "outputs": [
    {
     "name": "stdout",
     "output_type": "stream",
     "text": [
      "+--------------+---------+\n",
      "|Violation Code|Frequency|\n",
      "+--------------+---------+\n",
      "|            21|   768087|\n",
      "|            36|   662765|\n",
      "|            38|   542079|\n",
      "|            14|   476664|\n",
      "|            20|   319646|\n",
      "+--------------+---------+\n",
      "only showing top 5 rows\n",
      "\n"
     ]
    }
   ],
   "source": [
    "# (1) How often does each violation code occur? Display the frequency of the top five violation codes.\n",
    "df_2017.createOrReplaceTempView(\"order_table\")\n",
    "spark.sql(\"\"\" SELECT `Violation Code`,count(`Violation Code`) as Frequency FROM order_table GROUP BY `Violation Code` ORDER BY Frequency desc\"\"\").show(5)"
   ]
  },
  {
   "cell_type": "code",
   "execution_count": 10,
   "metadata": {},
   "outputs": [
    {
     "name": "stdout",
     "output_type": "stream",
     "text": [
      "For Body Type\n",
      "+-----------------+-------+\n",
      "|Vehicle Body Type|  count|\n",
      "+-----------------+-------+\n",
      "|             SUBN|1883954|\n",
      "|             4DSD|1547312|\n",
      "|              VAN| 724029|\n",
      "|             DELV| 358984|\n",
      "|              SDN| 194197|\n",
      "|             PICK| 135772|\n",
      "|             2DSD| 135707|\n",
      "|             REFG|  59641|\n",
      "|             TRAC|  40030|\n",
      "|             TAXI|  32608|\n",
      "|             UTIL|  31135|\n",
      "|              BUS|  24749|\n",
      "|             4 DR|  24153|\n",
      "|             CONV|  22064|\n",
      "|              nan|  20201|\n",
      "|             WAGO|  17465|\n",
      "|               4D|  16647|\n",
      "|             TRLR|  14281|\n",
      "|              MCY|  12838|\n",
      "|               TK|  11386|\n",
      "+-----------------+-------+\n",
      "only showing top 20 rows\n",
      "\n"
     ]
    }
   ],
   "source": [
    "# (2) How often does each 'vehicle body type' get a parking ticket? How about the 'vehicle make'? \n",
    "print('For Body Type')\n",
    "df_2017.cube('Vehicle Body Type').count().sort(col('count').desc()).dropna().show()"
   ]
  },
  {
   "cell_type": "code",
   "execution_count": 11,
   "metadata": {},
   "outputs": [
    {
     "name": "stdout",
     "output_type": "stream",
     "text": [
      "For Make\n",
      "+------------+------+\n",
      "|Vehicle Make| count|\n",
      "+------------+------+\n",
      "|        FORD|636844|\n",
      "|       TOYOT|605291|\n",
      "|       HONDA|538884|\n",
      "|       NISSA|462017|\n",
      "|       CHEVR|356032|\n",
      "|       FRUEH|230787|\n",
      "|       ME/BE|197568|\n",
      "|       DODGE|187729|\n",
      "|         BMW|186700|\n",
      "|        JEEP|175815|\n",
      "|       HYUND|148657|\n",
      "|       INTER|128737|\n",
      "|         GMC|127581|\n",
      "|       LEXUS|122078|\n",
      "|       ACURA|100637|\n",
      "|       INFIN| 88572|\n",
      "|       CHRYS| 85573|\n",
      "|       VOLKS| 85051|\n",
      "|       SUBAR| 71791|\n",
      "|        AUDI| 68854|\n",
      "+------------+------+\n",
      "only showing top 20 rows\n",
      "\n"
     ]
    }
   ],
   "source": [
    "print('For Make')\n",
    "df_2017.cube('Vehicle Make').count().sort(col('count').desc()).dropna().show()"
   ]
  },
  {
   "cell_type": "code",
   "execution_count": 95,
   "metadata": {},
   "outputs": [
    {
     "name": "stdout",
     "output_type": "stream",
     "text": [
      "+------------------+------+\n",
      "|Violation Precinct| count|\n",
      "+------------------+------+\n",
      "|                 0|925596|\n",
      "|                19|274445|\n",
      "|                14|203553|\n",
      "|                 1|174702|\n",
      "|                18|169131|\n",
      "|               114|147444|\n",
      "+------------------+------+\n",
      "only showing top 6 rows\n",
      "\n"
     ]
    }
   ],
   "source": [
    "# (3) Violation Precinct and Issuer Precinct\n",
    "df_2017.cube('Violation Precinct').count().sort(col('count').desc()).dropna().show(6)\n",
    "\n",
    "#Ignore 0 precinct as this is erroneous"
   ]
  },
  {
   "cell_type": "code",
   "execution_count": 96,
   "metadata": {},
   "outputs": [
    {
     "name": "stdout",
     "output_type": "stream",
     "text": [
      "+---------------+-------+\n",
      "|Issuer Precinct|  count|\n",
      "+---------------+-------+\n",
      "|              0|1078406|\n",
      "|             19| 266961|\n",
      "|             14| 200495|\n",
      "|              1| 168740|\n",
      "|             18| 162994|\n",
      "|            114| 144054|\n",
      "+---------------+-------+\n",
      "only showing top 6 rows\n",
      "\n"
     ]
    }
   ],
   "source": [
    "df_2017.cube('Issuer Precinct').count().sort(col('count').desc()).dropna().show(6)\n",
    "#Ignore 0 precinct as this is erroneous"
   ]
  },
  {
   "cell_type": "code",
   "execution_count": 97,
   "metadata": {},
   "outputs": [
    {
     "name": "stdout",
     "output_type": "stream",
     "text": [
      "Top 5 Violation Codes frequencies for issuer precinct 19\n",
      "+--------------+---------+\n",
      "|Violation Code|Frequency|\n",
      "+--------------+---------+\n",
      "|            46|    48445|\n",
      "|            38|    36386|\n",
      "|            37|    36056|\n",
      "|            14|    29797|\n",
      "|            21|    28415|\n",
      "+--------------+---------+\n",
      "only showing top 5 rows\n",
      "\n"
     ]
    }
   ],
   "source": [
    "# (4)Find the violation code frequencies for three precincts that have issued the most number of tickets. Do these precinct zones have an exceptionally high frequency of certain violation codes? Are these codes common across precincts?\n",
    "\n",
    "# Top 3 issuer precincts are 19,14 and 1.(0 is an erroneous entry so ignoring it)\n",
    "\n",
    "# Printing top 5 Violation Code frequencies for issuer precinct 19\n",
    "print('Top 5 Violation Codes frequencies for issuer precinct 19')\n",
    "spark.sql(\"\"\" SELECT `Violation Code`,count(`Violation Code`) as Frequency FROM order_table where `Issuer Precinct` = 19 GROUP BY `Violation Code` ORDER BY Frequency desc\"\"\").show(5)"
   ]
  },
  {
   "cell_type": "code",
   "execution_count": 98,
   "metadata": {},
   "outputs": [
    {
     "name": "stdout",
     "output_type": "stream",
     "text": [
      "Top 5 Violation Codes frequencies for issuer precinct 14\n",
      "+--------------+---------+\n",
      "|Violation Code|Frequency|\n",
      "+--------------+---------+\n",
      "|            14|    45036|\n",
      "|            69|    30464|\n",
      "|            31|    22555|\n",
      "|            47|    18364|\n",
      "|            42|    10027|\n",
      "+--------------+---------+\n",
      "only showing top 5 rows\n",
      "\n"
     ]
    }
   ],
   "source": [
    "# Printing top 5 Violation Code frequencies for issuer precinct 14\n",
    "print('Top 5 Violation Codes frequencies for issuer precinct 14')\n",
    "spark.sql(\"\"\" SELECT `Violation Code`,count(`Violation Code`) as Frequency FROM order_table where `Issuer Precinct` = 14 GROUP BY `Violation Code` ORDER BY Frequency desc\"\"\").show(5)"
   ]
  },
  {
   "cell_type": "code",
   "execution_count": 99,
   "metadata": {},
   "outputs": [
    {
     "name": "stdout",
     "output_type": "stream",
     "text": [
      "Top 5 Violation Codes frequencies for issuer precinct 1\n",
      "+--------------+---------+\n",
      "|Violation Code|Frequency|\n",
      "+--------------+---------+\n",
      "|            14|    38354|\n",
      "|            16|    19081|\n",
      "|            20|    15408|\n",
      "|            46|    12745|\n",
      "|            38|     8535|\n",
      "+--------------+---------+\n",
      "only showing top 5 rows\n",
      "\n"
     ]
    }
   ],
   "source": [
    "# Printing top 5 Violation Code frequencies for issuer precinct 1\n",
    "print('Top 5 Violation Codes frequencies for issuer precinct 1')\n",
    "spark.sql(\"\"\" SELECT `Violation Code`,count(`Violation Code`) as Frequency FROM order_table where `Issuer Precinct` = 1 GROUP BY `Violation Code` ORDER BY Frequency desc\"\"\").show(5)"
   ]
  },
  {
   "cell_type": "code",
   "execution_count": null,
   "metadata": {},
   "outputs": [],
   "source": [
    "# Some conclusions drawn from above results\n",
    "#1. 14 violation code is common for all three issuer precincts.\n",
    "#2. For issuer precinct 19, 46 violation code has exceptionally high frequency of 48445.\n",
    "#3. For issuer precinct 14 and 1, 14 violation code has exceptionally high frequency of ~3800 - 45000"
   ]
  },
  {
   "cell_type": "code",
   "execution_count": 100,
   "metadata": {},
   "outputs": [
    {
     "name": "stdout",
     "output_type": "stream",
     "text": [
      "+---------------------+\n",
      "|count(Violation time)|\n",
      "+---------------------+\n",
      "|                    0|\n",
      "+---------------------+\n",
      "\n"
     ]
    }
   ],
   "source": [
    "#5.Find out the properties of parking violations across different times of the day\n",
    "\n",
    "# No null values present in Violation Time column\n",
    "\n",
    "#PySpark version \n",
    "df_2017.filter(col('Violation Time').isNull()).count()\n",
    "\n",
    "# SQL code\n",
    "spark.sql(\"\"\" SELECT count(`Violation time`) FROM order_table where `Violation Time` is null\"\"\").show()"
   ]
  },
  {
   "cell_type": "code",
   "execution_count": 12,
   "metadata": {},
   "outputs": [],
   "source": [
    "# Dividing data frame into 6 time inervals namely 12AM-3AM,4AM-7AM,8AM-11AM,12PM-3PM,4PM-7PM,8PM-11PM\n",
    "df_2017 = df_2017.withColumn(\"Hour Bin\",\n",
    "       when((col(\"Violation Time\").startswith(\"00\") | col(\"Violation Time\").startswith(\"01\") | col(\"Violation Time\").startswith(\"02\") | col(\"Violation Time\").startswith(\"03\")) & (col(\"Violation Time\").endswith(\"A\")), \"12AM-3AM\")\n",
    "      .when((col(\"Violation Time\").startswith(\"04\") | col(\"Violation Time\").startswith(\"05\") | col(\"Violation Time\").startswith(\"06\") | col(\"Violation Time\").startswith(\"07\")) & (col(\"Violation Time\").endswith(\"A\")), \"4AM-7AM\")\n",
    "      .when((col(\"Violation Time\").startswith(\"08\") | col(\"Violation Time\").startswith(\"09\") | col(\"Violation Time\").startswith(\"10\") | col(\"Violation Time\").startswith(\"11\")) & (col(\"Violation Time\").endswith(\"A\")), \"8AM-11AM\")\n",
    "      .when((col(\"Violation Time\").startswith(\"12\") | col(\"Violation Time\").startswith(\"01\") | col(\"Violation Time\").startswith(\"02\") | col(\"Violation Time\").startswith(\"03\")) & (col(\"Violation Time\").endswith(\"P\")), \"12PM-3PM\")\n",
    "      .when((col(\"Violation Time\").startswith(\"04\") | col(\"Violation Time\").startswith(\"05\") | col(\"Violation Time\").startswith(\"06\") | col(\"Violation Time\").startswith(\"07\")) & (col(\"Violation Time\").endswith(\"P\")), \"4PM-7PM\")\n",
    "      .when((col(\"Violation Time\").startswith(\"08\") | col(\"Violation Time\").startswith(\"09\") | col(\"Violation Time\").startswith(\"10\") | col(\"Violation Time\").startswith(\"11\")) & (col(\"Violation Time\").endswith(\"P\")), \"8PM-11PM\")\n",
    "      .otherwise(\"NA\"))"
   ]
  },
  {
   "cell_type": "code",
   "execution_count": 13,
   "metadata": {},
   "outputs": [],
   "source": [
    "df_2017.createOrReplaceTempView(\"order_table\")"
   ]
  },
  {
   "cell_type": "code",
   "execution_count": 103,
   "metadata": {},
   "outputs": [
    {
     "name": "stdout",
     "output_type": "stream",
     "text": [
      "+-------------------+---------+-------+\n",
      "|           col_name|data_type|comment|\n",
      "+-------------------+---------+-------+\n",
      "|     Summons Number|   bigint|   null|\n",
      "|           Plate ID|   string|   null|\n",
      "|         Issue Date|timestamp|   null|\n",
      "|     Violation Code|      int|   null|\n",
      "|  Vehicle Body Type|   string|   null|\n",
      "|       Vehicle Make|   string|   null|\n",
      "| Violation Precinct|      int|   null|\n",
      "|    Issuer Precinct|      int|   null|\n",
      "|     Violation Time|   string|   null|\n",
      "|Registration State1|   string|   null|\n",
      "|           Hour Bin|   string|   null|\n",
      "+-------------------+---------+-------+\n",
      "\n"
     ]
    }
   ],
   "source": [
    "spark.sql(\"\"\"describe order_table\"\"\").show()"
   ]
  },
  {
   "cell_type": "code",
   "execution_count": 104,
   "metadata": {},
   "outputs": [
    {
     "name": "stdout",
     "output_type": "stream",
     "text": [
      "Top 3 Violation Codes frequencies for 12AM-3AM\n",
      "+--------------+---------+\n",
      "|Violation Code|Frequency|\n",
      "+--------------+---------+\n",
      "|            21|    34703|\n",
      "|            40|    23628|\n",
      "|            14|    14168|\n",
      "+--------------+---------+\n",
      "only showing top 3 rows\n",
      "\n"
     ]
    }
   ],
   "source": [
    "# Finding top 3 violation codes for all 6 time buckets 12AM-3AM,4AM-7AM,8AM-11AM,12PM-3PM,4PM-7PM,8PM-11PM  \n",
    "\n",
    "print('Top 3 Violation Codes frequencies for 12AM-3AM')\n",
    "spark.sql(\"\"\" SELECT `Violation Code`,count(`Violation Code`) as Frequency FROM order_table where `Hour Bin` = '12AM-3AM' GROUP BY `Violation Code` ORDER BY Frequency desc\"\"\").show(3)"
   ]
  },
  {
   "cell_type": "code",
   "execution_count": 105,
   "metadata": {},
   "outputs": [
    {
     "name": "stdout",
     "output_type": "stream",
     "text": [
      "Top 3 Violation Codes frequencies for 4AM-7AM\n",
      "+--------------+---------+\n",
      "|Violation Code|Frequency|\n",
      "+--------------+---------+\n",
      "|            14|    74114|\n",
      "|            40|    60652|\n",
      "|            21|    57897|\n",
      "+--------------+---------+\n",
      "only showing top 3 rows\n",
      "\n"
     ]
    }
   ],
   "source": [
    "# Finding top 3 violation codes for all 6 time buckets 4AM-7AM,8AM-11AM,12PM-3PM,4PM-7PM,8PM-11PM  \n",
    "\n",
    "print('Top 3 Violation Codes frequencies for 4AM-7AM')\n",
    "spark.sql(\"\"\" SELECT `Violation Code`,count(`Violation Code`) as Frequency FROM order_table where `Hour Bin` = '4AM-7AM' GROUP BY `Violation Code` ORDER BY Frequency desc\"\"\").show(3)"
   ]
  },
  {
   "cell_type": "code",
   "execution_count": 62,
   "metadata": {},
   "outputs": [
    {
     "name": "stdout",
     "output_type": "stream",
     "text": [
      "Top 3 Violation Codes frequencies for 8AM-11AM\n",
      "+--------------+---------+\n",
      "|Violation Code|Frequency|\n",
      "+--------------+---------+\n",
      "|            21|  1182689|\n",
      "|            36|   751422|\n",
      "|            38|   346518|\n",
      "+--------------+---------+\n",
      "only showing top 3 rows\n",
      "\n"
     ]
    }
   ],
   "source": [
    "# Finding top 3 violation codes for all 6 time buckets 8AM-11AM,12PM-3PM,4PM-7PM,8PM-11PM  \n",
    "\n",
    "print('Top 3 Violation Codes frequencies for 8AM-11AM')\n",
    "spark.sql(\"\"\" SELECT `Violation Code`,count(`Violation Code`) as Frequency FROM order_table where `Hour Bin` = '8AM-11AM' GROUP BY `Violation Code` ORDER BY Frequency desc\"\"\").show(3)"
   ]
  },
  {
   "cell_type": "code",
   "execution_count": 106,
   "metadata": {},
   "outputs": [
    {
     "name": "stdout",
     "output_type": "stream",
     "text": [
      "Top 3 Violation Codes frequencies for 12PM-3PM\n",
      "+--------------+---------+\n",
      "|Violation Code|Frequency|\n",
      "+--------------+---------+\n",
      "|            36|   286284|\n",
      "|            38|   240721|\n",
      "|            37|   167025|\n",
      "+--------------+---------+\n",
      "only showing top 3 rows\n",
      "\n"
     ]
    }
   ],
   "source": [
    "# Finding top 3 violation codes for all 6 time buckets 12PM-3PM,4PM-7PM,8PM-11PM  \n",
    "\n",
    "print('Top 3 Violation Codes frequencies for 12PM-3PM')\n",
    "spark.sql(\"\"\" SELECT `Violation Code`,count(`Violation Code`) as Frequency FROM order_table where `Hour Bin` = '12PM-3PM' GROUP BY `Violation Code` ORDER BY Frequency desc\"\"\").show(3)"
   ]
  },
  {
   "cell_type": "code",
   "execution_count": 64,
   "metadata": {},
   "outputs": [
    {
     "name": "stdout",
     "output_type": "stream",
     "text": [
      "Top 3 Violation Codes frequencies for 4PM-7PM\n",
      "+--------------+---------+\n",
      "|Violation Code|Frequency|\n",
      "+--------------+---------+\n",
      "|            38|   203232|\n",
      "|            37|   145784|\n",
      "|            14|   144749|\n",
      "+--------------+---------+\n",
      "only showing top 3 rows\n",
      "\n"
     ]
    }
   ],
   "source": [
    "# Finding top 3 violation codes for all 6 time buckets 4PM-7PM,8PM-11PM  \n",
    "\n",
    "print('Top 3 Violation Codes frequencies for 4PM-7PM')\n",
    "spark.sql(\"\"\" SELECT `Violation Code`,count(`Violation Code`) as Frequency FROM order_table where `Hour Bin` = '4PM-7PM' GROUP BY `Violation Code` ORDER BY Frequency desc\"\"\").show(3)"
   ]
  },
  {
   "cell_type": "code",
   "execution_count": 107,
   "metadata": {},
   "outputs": [
    {
     "name": "stdout",
     "output_type": "stream",
     "text": [
      "Top 3 Violation Codes frequencies for 8PM-11PM\n",
      "+--------------+---------+\n",
      "|Violation Code|Frequency|\n",
      "+--------------+---------+\n",
      "|             7|    26293|\n",
      "|            40|    22337|\n",
      "|            14|    21045|\n",
      "+--------------+---------+\n",
      "only showing top 3 rows\n",
      "\n"
     ]
    }
   ],
   "source": [
    "# Finding top 3 violation codes for all 6 time buckets 8PM-11PM  \n",
    "\n",
    "print('Top 3 Violation Codes frequencies for 8PM-11PM')\n",
    "spark.sql(\"\"\" SELECT `Violation Code`,count(`Violation Code`) as Frequency FROM order_table where `Hour Bin` = '8PM-11PM' GROUP BY `Violation Code` ORDER BY Frequency desc\"\"\").show(3)"
   ]
  },
  {
   "cell_type": "code",
   "execution_count": null,
   "metadata": {},
   "outputs": [],
   "source": [
    "# Three most commonly occurring as found above are 21,36 and 38 (Answer to 1 question)\n",
    "# Violation Code   Common Time of Day\n",
    "# 21               8AM-11AM\n",
    "# 36               8AM-11AM\n",
    "# 38               8AM-11AM"
   ]
  },
  {
   "cell_type": "code",
   "execution_count": 122,
   "metadata": {},
   "outputs": [],
   "source": [
    "#(6) First, divide the year into a certain number of seasons, and find the frequencies of tickets for each season.\n",
    "# Dividing data frame into 4 seasons namely SPRING,SUMMER,FALL,WINTER\n",
    "df_2017 = df_2017.withColumn(\"Season\",\n",
    "        when(col(\"Issue Date\").between(\"2017-03-01 00:00:00\",\"2017-05-31 00:00:00\"), \"SPRING\")\n",
    "       .when(col(\"Issue Date\").between(\"2017-06-01 00:00:00\",\"2017-08-31 00:00:00\"), \"SUMMER\")\n",
    "       .when(col(\"Issue Date\").between(\"2017-09-01 00:00:00\",\"2017-11-30 00:00:00\"), \"FALL\")\n",
    "       .when(col(\"Issue Date\").between(\"2017-12-01 00:00:00\",\"2017-12-31 00:00:00\"), \"WINTER\")\n",
    "       .when(col(\"Issue Date\").between(\"2017-01-01 00:00:00\",\"2017-02-28 00:00:00\"), \"WINTER\")\n",
    "       .otherwise(\"NA\"))"
   ]
  },
  {
   "cell_type": "code",
   "execution_count": 123,
   "metadata": {},
   "outputs": [],
   "source": [
    "df_2017.createOrReplaceTempView(\"order_table\")"
   ]
  },
  {
   "cell_type": "code",
   "execution_count": 124,
   "metadata": {},
   "outputs": [
    {
     "name": "stdout",
     "output_type": "stream",
     "text": [
      "+-------------------+---------+-------+\n",
      "|           col_name|data_type|comment|\n",
      "+-------------------+---------+-------+\n",
      "|     Summons Number|   bigint|   null|\n",
      "|           Plate ID|   string|   null|\n",
      "|         Issue Date|timestamp|   null|\n",
      "|     Violation Code|      int|   null|\n",
      "|  Vehicle Body Type|   string|   null|\n",
      "|       Vehicle Make|   string|   null|\n",
      "| Violation Precinct|      int|   null|\n",
      "|    Issuer Precinct|      int|   null|\n",
      "|     Violation Time|   string|   null|\n",
      "|Registration State1|   string|   null|\n",
      "|           Hour Bin|   string|   null|\n",
      "|             Season|   string|   null|\n",
      "+-------------------+---------+-------+\n",
      "\n"
     ]
    }
   ],
   "source": [
    "spark.sql(\"\"\"describe order_table\"\"\").show()"
   ]
  },
  {
   "cell_type": "code",
   "execution_count": 125,
   "metadata": {},
   "outputs": [
    {
     "name": "stdout",
     "output_type": "stream",
     "text": [
      "+------+---------+\n",
      "|Season|Frequency|\n",
      "+------+---------+\n",
      "|SPRING|  2873383|\n",
      "|WINTER|  1704690|\n",
      "|SUMMER|   852866|\n",
      "|  FALL|      979|\n",
      "+------+---------+\n",
      "\n"
     ]
    }
   ],
   "source": [
    "# find the frequencies of tickets for each season.\n",
    "spark.sql(\"\"\" SELECT `Season`,count(`Season`) as Frequency FROM order_table GROUP BY `Season` ORDER BY Frequency desc\"\"\").show()"
   ]
  },
  {
   "cell_type": "code",
   "execution_count": 126,
   "metadata": {},
   "outputs": [
    {
     "name": "stdout",
     "output_type": "stream",
     "text": [
      "Top 3 Violation Codes frequencies for SPRING\n",
      "+--------------+---------+\n",
      "|Violation Code|Frequency|\n",
      "+--------------+---------+\n",
      "|            21|   402424|\n",
      "|            36|   344834|\n",
      "|            38|   271167|\n",
      "+--------------+---------+\n",
      "only showing top 3 rows\n",
      "\n"
     ]
    }
   ],
   "source": [
    "# Finding top 3 violation codes for all season  \n",
    "\n",
    "print('Top 3 Violation Codes frequencies for SPRING')\n",
    "spark.sql(\"\"\" SELECT `Violation Code`,count(`Violation Code`) as Frequency FROM order_table where `Season` = 'SPRING' GROUP BY `Violation Code` ORDER BY Frequency desc\"\"\").show(3)"
   ]
  },
  {
   "cell_type": "code",
   "execution_count": 127,
   "metadata": {},
   "outputs": [
    {
     "name": "stdout",
     "output_type": "stream",
     "text": [
      "Top 3 Violation Codes frequencies for WINTER\n",
      "+--------------+---------+\n",
      "|Violation Code|Frequency|\n",
      "+--------------+---------+\n",
      "|            21|   238183|\n",
      "|            36|   221268|\n",
      "|            38|   187386|\n",
      "+--------------+---------+\n",
      "only showing top 3 rows\n",
      "\n"
     ]
    }
   ],
   "source": [
    "# Finding top 3 violation codes for all season  \n",
    "\n",
    "print('Top 3 Violation Codes frequencies for WINTER')\n",
    "spark.sql(\"\"\" SELECT `Violation Code`,count(`Violation Code`) as Frequency FROM order_table where `Season` = 'WINTER' GROUP BY `Violation Code` ORDER BY Frequency desc\"\"\").show(3)"
   ]
  },
  {
   "cell_type": "code",
   "execution_count": 128,
   "metadata": {},
   "outputs": [
    {
     "name": "stdout",
     "output_type": "stream",
     "text": [
      "Top 3 Violation Codes frequencies for FALL\n",
      "+--------------+---------+\n",
      "|Violation Code|Frequency|\n",
      "+--------------+---------+\n",
      "|            46|      231|\n",
      "|            21|      128|\n",
      "|            40|      116|\n",
      "+--------------+---------+\n",
      "only showing top 3 rows\n",
      "\n"
     ]
    }
   ],
   "source": [
    "# Finding top 3 violation codes for all season  \n",
    "\n",
    "print('Top 3 Violation Codes frequencies for FALL')\n",
    "spark.sql(\"\"\" SELECT `Violation Code`,count(`Violation Code`) as Frequency FROM order_table where `Season` = 'FALL' GROUP BY `Violation Code` ORDER BY Frequency desc\"\"\").show(3)"
   ]
  },
  {
   "cell_type": "code",
   "execution_count": 129,
   "metadata": {},
   "outputs": [
    {
     "name": "stdout",
     "output_type": "stream",
     "text": [
      "Top 3 Violation Codes frequencies for SUMMER\n",
      "+--------------+---------+\n",
      "|Violation Code|Frequency|\n",
      "+--------------+---------+\n",
      "|            21|   127352|\n",
      "|            36|    96663|\n",
      "|            38|    83518|\n",
      "+--------------+---------+\n",
      "only showing top 3 rows\n",
      "\n"
     ]
    }
   ],
   "source": [
    "# Finding top 3 violation codes for all season  \n",
    "\n",
    "print('Top 3 Violation Codes frequencies for SUMMER')\n",
    "spark.sql(\"\"\" SELECT `Violation Code`,count(`Violation Code`) as Frequency FROM order_table where `Season` = 'SUMMER' GROUP BY `Violation Code` ORDER BY Frequency desc\"\"\").show(3)"
   ]
  },
  {
   "cell_type": "code",
   "execution_count": 130,
   "metadata": {},
   "outputs": [
    {
     "name": "stdout",
     "output_type": "stream",
     "text": [
      "+--------------+---------+\n",
      "|Violation Code|Frequency|\n",
      "+--------------+---------+\n",
      "|            21|   768087|\n",
      "|            36|   662765|\n",
      "|            38|   542079|\n",
      "|            14|   476664|\n",
      "|            20|   319646|\n",
      "+--------------+---------+\n",
      "only showing top 5 rows\n",
      "\n"
     ]
    }
   ],
   "source": [
    "# (7).Find the total occurrences of the three most common violation codes.\n",
    "\n",
    "spark.sql(\"\"\" SELECT `Violation Code`,count(`Violation Code`) as Frequency FROM order_table GROUP BY `Violation Code` ORDER BY Frequency desc\"\"\").show(5)"
   ]
  },
  {
   "cell_type": "code",
   "execution_count": null,
   "metadata": {},
   "outputs": [],
   "source": [
    "# Top 3 violation codes are 21,36 and 38.\n",
    "# Violation Code  Fine(highest-density locations)  Fine(rest of the city)  Average Fine\n",
    "# 21              $65                              $45                     $55\n",
    "# 36              $50                              $50                     $50\n",
    "# 38              $65                              $35                     $50"
   ]
  },
  {
   "cell_type": "code",
   "execution_count": 132,
   "metadata": {},
   "outputs": [
    {
     "name": "stdout",
     "output_type": "stream",
     "text": [
      "+------------+\n",
      "|Total_amount|\n",
      "+------------+\n",
      "|    42244785|\n",
      "+------------+\n",
      "\n"
     ]
    }
   ],
   "source": [
    "# (7).Find the total amount for violation code 21.\n",
    "print(\"Total amount for Violation Code 21\")\n",
    "spark.sql(\"\"\" SELECT count(`Violation Code`)*55 as Total_amount FROM order_table where `Violation Code` = 21\"\"\").show()"
   ]
  },
  {
   "cell_type": "code",
   "execution_count": 133,
   "metadata": {},
   "outputs": [
    {
     "name": "stdout",
     "output_type": "stream",
     "text": [
      "Total amount for Violation Code 36\n",
      "+------------+\n",
      "|Total_amount|\n",
      "+------------+\n",
      "|    33138250|\n",
      "+------------+\n",
      "\n"
     ]
    }
   ],
   "source": [
    "# (7).Find the total amount for violation code 36.\n",
    "print(\"Total amount for Violation Code 36\")\n",
    "spark.sql(\"\"\" SELECT count(`Violation Code`)*50 as Total_amount FROM order_table where `Violation Code` = 36\"\"\").show()"
   ]
  },
  {
   "cell_type": "code",
   "execution_count": 134,
   "metadata": {},
   "outputs": [
    {
     "name": "stdout",
     "output_type": "stream",
     "text": [
      "Total amount for Violation Code 38\n",
      "+------------+\n",
      "|Total_amount|\n",
      "+------------+\n",
      "|    27103950|\n",
      "+------------+\n",
      "\n"
     ]
    }
   ],
   "source": [
    "# (7).Find the total amount for violation code 38.\n",
    "print(\"Total amount for Violation Code 38\")\n",
    "spark.sql(\"\"\" SELECT count(`Violation Code`)*50 as Total_amount FROM order_table where `Violation Code` = 38\"\"\").show()"
   ]
  },
  {
   "cell_type": "code",
   "execution_count": null,
   "metadata": {},
   "outputs": [],
   "source": [
    "# State the code that has the highest total collection.\n",
    "# Violation code 21 has the highest total amount i.e. $42,244,785"
   ]
  }
 ],
 "metadata": {
  "kernelspec": {
   "display_name": "PySpark",
   "language": "python",
   "name": "pyspark"
  },
  "language_info": {
   "codemirror_mode": {
    "name": "ipython",
    "version": 3
   },
   "file_extension": ".py",
   "mimetype": "text/x-python",
   "name": "python",
   "nbconvert_exporter": "python",
   "pygments_lexer": "ipython3",
   "version": "3.6.5"
  }
 },
 "nbformat": 4,
 "nbformat_minor": 2
}
