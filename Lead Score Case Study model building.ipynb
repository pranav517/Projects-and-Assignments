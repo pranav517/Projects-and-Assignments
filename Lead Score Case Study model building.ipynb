{
 "cells": [
  {
   "cell_type": "code",
   "execution_count": 4,
   "metadata": {},
   "outputs": [],
   "source": [
    "#Importing required python packages\n",
    "import numpy as np\n",
    "import pandas as pd\n",
    "\n",
    "#Visualization\n",
    "import matplotlib.pyplot as plt\n",
    "import seaborn as sns\n",
    "%matplotlib inline\n",
    "\n",
    "#To ignore warnings\n",
    "import warnings\n",
    "warnings.filterwarnings(\"ignore\")"
   ]
  },
  {
   "cell_type": "code",
   "execution_count": 5,
   "metadata": {},
   "outputs": [
    {
     "data": {
      "text/html": [
       "<div>\n",
       "<style scoped>\n",
       "    .dataframe tbody tr th:only-of-type {\n",
       "        vertical-align: middle;\n",
       "    }\n",
       "\n",
       "    .dataframe tbody tr th {\n",
       "        vertical-align: top;\n",
       "    }\n",
       "\n",
       "    .dataframe thead th {\n",
       "        text-align: right;\n",
       "    }\n",
       "</style>\n",
       "<table border=\"1\" class=\"dataframe\">\n",
       "  <thead>\n",
       "    <tr style=\"text-align: right;\">\n",
       "      <th></th>\n",
       "      <th>Prospect ID</th>\n",
       "      <th>Lead Number</th>\n",
       "      <th>Lead Origin</th>\n",
       "      <th>Lead Source</th>\n",
       "      <th>Do Not Email</th>\n",
       "      <th>Do Not Call</th>\n",
       "      <th>Converted</th>\n",
       "      <th>TotalVisits</th>\n",
       "      <th>Total Time Spent on Website</th>\n",
       "      <th>Page Views Per Visit</th>\n",
       "      <th>...</th>\n",
       "      <th>Get updates on DM Content</th>\n",
       "      <th>Lead Profile</th>\n",
       "      <th>City</th>\n",
       "      <th>Asymmetrique Activity Index</th>\n",
       "      <th>Asymmetrique Profile Index</th>\n",
       "      <th>Asymmetrique Activity Score</th>\n",
       "      <th>Asymmetrique Profile Score</th>\n",
       "      <th>I agree to pay the amount through cheque</th>\n",
       "      <th>A free copy of Mastering The Interview</th>\n",
       "      <th>Last Notable Activity</th>\n",
       "    </tr>\n",
       "  </thead>\n",
       "  <tbody>\n",
       "    <tr>\n",
       "      <th>0</th>\n",
       "      <td>7927b2df-8bba-4d29-b9a2-b6e0beafe620</td>\n",
       "      <td>660737</td>\n",
       "      <td>API</td>\n",
       "      <td>Olark Chat</td>\n",
       "      <td>No</td>\n",
       "      <td>No</td>\n",
       "      <td>0</td>\n",
       "      <td>0.0</td>\n",
       "      <td>0</td>\n",
       "      <td>0.0</td>\n",
       "      <td>...</td>\n",
       "      <td>No</td>\n",
       "      <td>Select</td>\n",
       "      <td>Select</td>\n",
       "      <td>02.Medium</td>\n",
       "      <td>02.Medium</td>\n",
       "      <td>15.0</td>\n",
       "      <td>15.0</td>\n",
       "      <td>No</td>\n",
       "      <td>No</td>\n",
       "      <td>Modified</td>\n",
       "    </tr>\n",
       "    <tr>\n",
       "      <th>1</th>\n",
       "      <td>2a272436-5132-4136-86fa-dcc88c88f482</td>\n",
       "      <td>660728</td>\n",
       "      <td>API</td>\n",
       "      <td>Organic Search</td>\n",
       "      <td>No</td>\n",
       "      <td>No</td>\n",
       "      <td>0</td>\n",
       "      <td>5.0</td>\n",
       "      <td>674</td>\n",
       "      <td>2.5</td>\n",
       "      <td>...</td>\n",
       "      <td>No</td>\n",
       "      <td>Select</td>\n",
       "      <td>Select</td>\n",
       "      <td>02.Medium</td>\n",
       "      <td>02.Medium</td>\n",
       "      <td>15.0</td>\n",
       "      <td>15.0</td>\n",
       "      <td>No</td>\n",
       "      <td>No</td>\n",
       "      <td>Email Opened</td>\n",
       "    </tr>\n",
       "    <tr>\n",
       "      <th>2</th>\n",
       "      <td>8cc8c611-a219-4f35-ad23-fdfd2656bd8a</td>\n",
       "      <td>660727</td>\n",
       "      <td>Landing Page Submission</td>\n",
       "      <td>Direct Traffic</td>\n",
       "      <td>No</td>\n",
       "      <td>No</td>\n",
       "      <td>1</td>\n",
       "      <td>2.0</td>\n",
       "      <td>1532</td>\n",
       "      <td>2.0</td>\n",
       "      <td>...</td>\n",
       "      <td>No</td>\n",
       "      <td>Potential Lead</td>\n",
       "      <td>Mumbai</td>\n",
       "      <td>02.Medium</td>\n",
       "      <td>01.High</td>\n",
       "      <td>14.0</td>\n",
       "      <td>20.0</td>\n",
       "      <td>No</td>\n",
       "      <td>Yes</td>\n",
       "      <td>Email Opened</td>\n",
       "    </tr>\n",
       "    <tr>\n",
       "      <th>3</th>\n",
       "      <td>0cc2df48-7cf4-4e39-9de9-19797f9b38cc</td>\n",
       "      <td>660719</td>\n",
       "      <td>Landing Page Submission</td>\n",
       "      <td>Direct Traffic</td>\n",
       "      <td>No</td>\n",
       "      <td>No</td>\n",
       "      <td>0</td>\n",
       "      <td>1.0</td>\n",
       "      <td>305</td>\n",
       "      <td>1.0</td>\n",
       "      <td>...</td>\n",
       "      <td>No</td>\n",
       "      <td>Select</td>\n",
       "      <td>Mumbai</td>\n",
       "      <td>02.Medium</td>\n",
       "      <td>01.High</td>\n",
       "      <td>13.0</td>\n",
       "      <td>17.0</td>\n",
       "      <td>No</td>\n",
       "      <td>No</td>\n",
       "      <td>Modified</td>\n",
       "    </tr>\n",
       "    <tr>\n",
       "      <th>4</th>\n",
       "      <td>3256f628-e534-4826-9d63-4a8b88782852</td>\n",
       "      <td>660681</td>\n",
       "      <td>Landing Page Submission</td>\n",
       "      <td>Google</td>\n",
       "      <td>No</td>\n",
       "      <td>No</td>\n",
       "      <td>1</td>\n",
       "      <td>2.0</td>\n",
       "      <td>1428</td>\n",
       "      <td>1.0</td>\n",
       "      <td>...</td>\n",
       "      <td>No</td>\n",
       "      <td>Select</td>\n",
       "      <td>Mumbai</td>\n",
       "      <td>02.Medium</td>\n",
       "      <td>01.High</td>\n",
       "      <td>15.0</td>\n",
       "      <td>18.0</td>\n",
       "      <td>No</td>\n",
       "      <td>No</td>\n",
       "      <td>Modified</td>\n",
       "    </tr>\n",
       "  </tbody>\n",
       "</table>\n",
       "<p>5 rows × 37 columns</p>\n",
       "</div>"
      ],
      "text/plain": [
       "                            Prospect ID  Lead Number              Lead Origin  \\\n",
       "0  7927b2df-8bba-4d29-b9a2-b6e0beafe620       660737                      API   \n",
       "1  2a272436-5132-4136-86fa-dcc88c88f482       660728                      API   \n",
       "2  8cc8c611-a219-4f35-ad23-fdfd2656bd8a       660727  Landing Page Submission   \n",
       "3  0cc2df48-7cf4-4e39-9de9-19797f9b38cc       660719  Landing Page Submission   \n",
       "4  3256f628-e534-4826-9d63-4a8b88782852       660681  Landing Page Submission   \n",
       "\n",
       "      Lead Source Do Not Email Do Not Call  Converted  TotalVisits  \\\n",
       "0      Olark Chat           No          No          0          0.0   \n",
       "1  Organic Search           No          No          0          5.0   \n",
       "2  Direct Traffic           No          No          1          2.0   \n",
       "3  Direct Traffic           No          No          0          1.0   \n",
       "4          Google           No          No          1          2.0   \n",
       "\n",
       "   Total Time Spent on Website  Page Views Per Visit          ...           \\\n",
       "0                            0                   0.0          ...            \n",
       "1                          674                   2.5          ...            \n",
       "2                         1532                   2.0          ...            \n",
       "3                          305                   1.0          ...            \n",
       "4                         1428                   1.0          ...            \n",
       "\n",
       "  Get updates on DM Content    Lead Profile    City  \\\n",
       "0                        No          Select  Select   \n",
       "1                        No          Select  Select   \n",
       "2                        No  Potential Lead  Mumbai   \n",
       "3                        No          Select  Mumbai   \n",
       "4                        No          Select  Mumbai   \n",
       "\n",
       "  Asymmetrique Activity Index Asymmetrique Profile Index  \\\n",
       "0                   02.Medium                  02.Medium   \n",
       "1                   02.Medium                  02.Medium   \n",
       "2                   02.Medium                    01.High   \n",
       "3                   02.Medium                    01.High   \n",
       "4                   02.Medium                    01.High   \n",
       "\n",
       "  Asymmetrique Activity Score Asymmetrique Profile Score  \\\n",
       "0                        15.0                       15.0   \n",
       "1                        15.0                       15.0   \n",
       "2                        14.0                       20.0   \n",
       "3                        13.0                       17.0   \n",
       "4                        15.0                       18.0   \n",
       "\n",
       "  I agree to pay the amount through cheque  \\\n",
       "0                                       No   \n",
       "1                                       No   \n",
       "2                                       No   \n",
       "3                                       No   \n",
       "4                                       No   \n",
       "\n",
       "  A free copy of Mastering The Interview Last Notable Activity  \n",
       "0                                     No              Modified  \n",
       "1                                     No          Email Opened  \n",
       "2                                    Yes          Email Opened  \n",
       "3                                     No              Modified  \n",
       "4                                     No              Modified  \n",
       "\n",
       "[5 rows x 37 columns]"
      ]
     },
     "execution_count": 5,
     "metadata": {},
     "output_type": "execute_result"
    }
   ],
   "source": [
    "#Reading Leads data into master data frame\n",
    "df_leads=pd.read_csv(\"Leads.csv\")\n",
    "df_leads.head()"
   ]
  },
  {
   "cell_type": "markdown",
   "metadata": {},
   "source": [
    "#### Imputing cells with entry 'Select' by Null value since it is as good as Null (mentioned in the problem statement)"
   ]
  },
  {
   "cell_type": "code",
   "execution_count": 6,
   "metadata": {
    "scrolled": true
   },
   "outputs": [
    {
     "data": {
      "text/plain": [
       "Prospect ID                                      0\n",
       "Lead Number                                      0\n",
       "Lead Origin                                      0\n",
       "Lead Source                                      0\n",
       "Do Not Email                                     0\n",
       "Do Not Call                                      0\n",
       "Converted                                        0\n",
       "TotalVisits                                      0\n",
       "Total Time Spent on Website                      0\n",
       "Page Views Per Visit                             0\n",
       "Last Activity                                    0\n",
       "Country                                          0\n",
       "Specialization                                   0\n",
       "How did you hear about X Education               0\n",
       "What is your current occupation                  0\n",
       "What matters most to you in choosing a course    0\n",
       "Search                                           0\n",
       "Magazine                                         0\n",
       "Newspaper Article                                0\n",
       "X Education Forums                               0\n",
       "Newspaper                                        0\n",
       "Digital Advertisement                            0\n",
       "Through Recommendations                          0\n",
       "Receive More Updates About Our Courses           0\n",
       "Tags                                             0\n",
       "Lead Quality                                     0\n",
       "Update me on Supply Chain Content                0\n",
       "Get updates on DM Content                        0\n",
       "Lead Profile                                     0\n",
       "City                                             0\n",
       "Asymmetrique Activity Index                      0\n",
       "Asymmetrique Profile Index                       0\n",
       "Asymmetrique Activity Score                      0\n",
       "Asymmetrique Profile Score                       0\n",
       "I agree to pay the amount through cheque         0\n",
       "A free copy of Mastering The Interview           0\n",
       "Last Notable Activity                            0\n",
       "dtype: int64"
      ]
     },
     "execution_count": 6,
     "metadata": {},
     "output_type": "execute_result"
    }
   ],
   "source": [
    "df_leads=df_leads.replace('Select',np.nan)\n",
    "(df_leads=='Select').sum()"
   ]
  },
  {
   "cell_type": "code",
   "execution_count": 7,
   "metadata": {
    "scrolled": true
   },
   "outputs": [
    {
     "name": "stdout",
     "output_type": "stream",
     "text": [
      "(9240, 37)\n",
      "<class 'pandas.core.frame.DataFrame'>\n",
      "RangeIndex: 9240 entries, 0 to 9239\n",
      "Data columns (total 37 columns):\n",
      "Prospect ID                                      9240 non-null object\n",
      "Lead Number                                      9240 non-null int64\n",
      "Lead Origin                                      9240 non-null object\n",
      "Lead Source                                      9204 non-null object\n",
      "Do Not Email                                     9240 non-null object\n",
      "Do Not Call                                      9240 non-null object\n",
      "Converted                                        9240 non-null int64\n",
      "TotalVisits                                      9103 non-null float64\n",
      "Total Time Spent on Website                      9240 non-null int64\n",
      "Page Views Per Visit                             9103 non-null float64\n",
      "Last Activity                                    9137 non-null object\n",
      "Country                                          6779 non-null object\n",
      "Specialization                                   5860 non-null object\n",
      "How did you hear about X Education               1990 non-null object\n",
      "What is your current occupation                  6550 non-null object\n",
      "What matters most to you in choosing a course    6531 non-null object\n",
      "Search                                           9240 non-null object\n",
      "Magazine                                         9240 non-null object\n",
      "Newspaper Article                                9240 non-null object\n",
      "X Education Forums                               9240 non-null object\n",
      "Newspaper                                        9240 non-null object\n",
      "Digital Advertisement                            9240 non-null object\n",
      "Through Recommendations                          9240 non-null object\n",
      "Receive More Updates About Our Courses           9240 non-null object\n",
      "Tags                                             5887 non-null object\n",
      "Lead Quality                                     4473 non-null object\n",
      "Update me on Supply Chain Content                9240 non-null object\n",
      "Get updates on DM Content                        9240 non-null object\n",
      "Lead Profile                                     2385 non-null object\n",
      "City                                             5571 non-null object\n",
      "Asymmetrique Activity Index                      5022 non-null object\n",
      "Asymmetrique Profile Index                       5022 non-null object\n",
      "Asymmetrique Activity Score                      5022 non-null float64\n",
      "Asymmetrique Profile Score                       5022 non-null float64\n",
      "I agree to pay the amount through cheque         9240 non-null object\n",
      "A free copy of Mastering The Interview           9240 non-null object\n",
      "Last Notable Activity                            9240 non-null object\n",
      "dtypes: float64(4), int64(3), object(30)\n",
      "memory usage: 2.6+ MB\n",
      "None\n"
     ]
    }
   ],
   "source": [
    "#Inspecting master data frame dimesnions and size\n",
    "print(df_leads.shape)\n",
    "print(df_leads.info())"
   ]
  },
  {
   "cell_type": "markdown",
   "metadata": {},
   "source": [
    "## Data Cleaning"
   ]
  },
  {
   "cell_type": "code",
   "execution_count": 8,
   "metadata": {
    "scrolled": true
   },
   "outputs": [
    {
     "data": {
      "text/plain": [
       "Prospect ID                                         0\n",
       "Lead Number                                         0\n",
       "Lead Origin                                         0\n",
       "Lead Source                                        36\n",
       "Do Not Email                                        0\n",
       "Do Not Call                                         0\n",
       "Converted                                           0\n",
       "TotalVisits                                       137\n",
       "Total Time Spent on Website                         0\n",
       "Page Views Per Visit                              137\n",
       "Last Activity                                     103\n",
       "Country                                          2461\n",
       "Specialization                                   3380\n",
       "How did you hear about X Education               7250\n",
       "What is your current occupation                  2690\n",
       "What matters most to you in choosing a course    2709\n",
       "Search                                              0\n",
       "Magazine                                            0\n",
       "Newspaper Article                                   0\n",
       "X Education Forums                                  0\n",
       "Newspaper                                           0\n",
       "Digital Advertisement                               0\n",
       "Through Recommendations                             0\n",
       "Receive More Updates About Our Courses              0\n",
       "Tags                                             3353\n",
       "Lead Quality                                     4767\n",
       "Update me on Supply Chain Content                   0\n",
       "Get updates on DM Content                           0\n",
       "Lead Profile                                     6855\n",
       "City                                             3669\n",
       "Asymmetrique Activity Index                      4218\n",
       "Asymmetrique Profile Index                       4218\n",
       "Asymmetrique Activity Score                      4218\n",
       "Asymmetrique Profile Score                       4218\n",
       "I agree to pay the amount through cheque            0\n",
       "A free copy of Mastering The Interview              0\n",
       "Last Notable Activity                               0\n",
       "dtype: int64"
      ]
     },
     "execution_count": 8,
     "metadata": {},
     "output_type": "execute_result"
    }
   ],
   "source": [
    "#Inspecting column wise total null values\n",
    "df_leads.isnull().sum()"
   ]
  },
  {
   "cell_type": "code",
   "execution_count": 9,
   "metadata": {
    "scrolled": true
   },
   "outputs": [
    {
     "data": {
      "text/plain": [
       "Prospect ID                                       0.00\n",
       "Lead Number                                       0.00\n",
       "Lead Origin                                       0.00\n",
       "Lead Source                                       0.39\n",
       "Do Not Email                                      0.00\n",
       "Do Not Call                                       0.00\n",
       "Converted                                         0.00\n",
       "TotalVisits                                       1.48\n",
       "Total Time Spent on Website                       0.00\n",
       "Page Views Per Visit                              1.48\n",
       "Last Activity                                     1.11\n",
       "Country                                          26.63\n",
       "Specialization                                   36.58\n",
       "How did you hear about X Education               78.46\n",
       "What is your current occupation                  29.11\n",
       "What matters most to you in choosing a course    29.32\n",
       "Search                                            0.00\n",
       "Magazine                                          0.00\n",
       "Newspaper Article                                 0.00\n",
       "X Education Forums                                0.00\n",
       "Newspaper                                         0.00\n",
       "Digital Advertisement                             0.00\n",
       "Through Recommendations                           0.00\n",
       "Receive More Updates About Our Courses            0.00\n",
       "Tags                                             36.29\n",
       "Lead Quality                                     51.59\n",
       "Update me on Supply Chain Content                 0.00\n",
       "Get updates on DM Content                         0.00\n",
       "Lead Profile                                     74.19\n",
       "City                                             39.71\n",
       "Asymmetrique Activity Index                      45.65\n",
       "Asymmetrique Profile Index                       45.65\n",
       "Asymmetrique Activity Score                      45.65\n",
       "Asymmetrique Profile Score                       45.65\n",
       "I agree to pay the amount through cheque          0.00\n",
       "A free copy of Mastering The Interview            0.00\n",
       "Last Notable Activity                             0.00\n",
       "dtype: float64"
      ]
     },
     "execution_count": 9,
     "metadata": {},
     "output_type": "execute_result"
    }
   ],
   "source": [
    "#Inspecting column wise percentage of null values\n",
    "round(100*(((df_leads.isnull()).sum())/len(df_leads.index)),2)"
   ]
  },
  {
   "cell_type": "markdown",
   "metadata": {},
   "source": [
    "#### It is impossible to either delete or impute the rows corresponding to such large number of missing values (>30%)without losing a lot of data or introducing heavy bias."
   ]
  },
  {
   "cell_type": "code",
   "execution_count": 10,
   "metadata": {},
   "outputs": [],
   "source": [
    "#Dropping irrelevant columns from master data frame\n",
    "df_leads.drop(['City','Lead Profile','Specialization','How did you hear about X Education','Lead Quality','Asymmetrique Activity Index','Asymmetrique Profile Index','Asymmetrique Activity Score','Asymmetrique Profile Score','Tags'],axis=1,inplace=True)"
   ]
  },
  {
   "cell_type": "code",
   "execution_count": 11,
   "metadata": {
    "scrolled": false
   },
   "outputs": [
    {
     "data": {
      "text/plain": [
       "Prospect ID                                       0.00\n",
       "Lead Number                                       0.00\n",
       "Lead Origin                                       0.00\n",
       "Lead Source                                       0.39\n",
       "Do Not Email                                      0.00\n",
       "Do Not Call                                       0.00\n",
       "Converted                                         0.00\n",
       "TotalVisits                                       1.48\n",
       "Total Time Spent on Website                       0.00\n",
       "Page Views Per Visit                              1.48\n",
       "Last Activity                                     1.11\n",
       "Country                                          26.63\n",
       "What is your current occupation                  29.11\n",
       "What matters most to you in choosing a course    29.32\n",
       "Search                                            0.00\n",
       "Magazine                                          0.00\n",
       "Newspaper Article                                 0.00\n",
       "X Education Forums                                0.00\n",
       "Newspaper                                         0.00\n",
       "Digital Advertisement                             0.00\n",
       "Through Recommendations                           0.00\n",
       "Receive More Updates About Our Courses            0.00\n",
       "Update me on Supply Chain Content                 0.00\n",
       "Get updates on DM Content                         0.00\n",
       "I agree to pay the amount through cheque          0.00\n",
       "A free copy of Mastering The Interview            0.00\n",
       "Last Notable Activity                             0.00\n",
       "dtype: float64"
      ]
     },
     "execution_count": 11,
     "metadata": {},
     "output_type": "execute_result"
    }
   ],
   "source": [
    "#Again inspecting column wise null value percentage after dropping irrelevant columns\n",
    "round(100*((df_leads.isnull().sum())/len(df_leads.index)),2)"
   ]
  },
  {
   "cell_type": "code",
   "execution_count": 12,
   "metadata": {},
   "outputs": [
    {
     "data": {
      "text/html": [
       "<div>\n",
       "<style scoped>\n",
       "    .dataframe tbody tr th:only-of-type {\n",
       "        vertical-align: middle;\n",
       "    }\n",
       "\n",
       "    .dataframe tbody tr th {\n",
       "        vertical-align: top;\n",
       "    }\n",
       "\n",
       "    .dataframe thead th {\n",
       "        text-align: right;\n",
       "    }\n",
       "</style>\n",
       "<table border=\"1\" class=\"dataframe\">\n",
       "  <thead>\n",
       "    <tr style=\"text-align: right;\">\n",
       "      <th></th>\n",
       "      <th>Prospect ID</th>\n",
       "      <th>Lead Number</th>\n",
       "      <th>Lead Origin</th>\n",
       "      <th>Lead Source</th>\n",
       "      <th>Do Not Email</th>\n",
       "      <th>Do Not Call</th>\n",
       "      <th>Converted</th>\n",
       "      <th>TotalVisits</th>\n",
       "      <th>Total Time Spent on Website</th>\n",
       "      <th>Page Views Per Visit</th>\n",
       "      <th>...</th>\n",
       "      <th>X Education Forums</th>\n",
       "      <th>Newspaper</th>\n",
       "      <th>Digital Advertisement</th>\n",
       "      <th>Through Recommendations</th>\n",
       "      <th>Receive More Updates About Our Courses</th>\n",
       "      <th>Update me on Supply Chain Content</th>\n",
       "      <th>Get updates on DM Content</th>\n",
       "      <th>I agree to pay the amount through cheque</th>\n",
       "      <th>A free copy of Mastering The Interview</th>\n",
       "      <th>Last Notable Activity</th>\n",
       "    </tr>\n",
       "  </thead>\n",
       "  <tbody>\n",
       "    <tr>\n",
       "      <th>0</th>\n",
       "      <td>7927b2df-8bba-4d29-b9a2-b6e0beafe620</td>\n",
       "      <td>660737</td>\n",
       "      <td>API</td>\n",
       "      <td>Olark Chat</td>\n",
       "      <td>No</td>\n",
       "      <td>No</td>\n",
       "      <td>0</td>\n",
       "      <td>0.0</td>\n",
       "      <td>0</td>\n",
       "      <td>0.0</td>\n",
       "      <td>...</td>\n",
       "      <td>No</td>\n",
       "      <td>No</td>\n",
       "      <td>No</td>\n",
       "      <td>No</td>\n",
       "      <td>No</td>\n",
       "      <td>No</td>\n",
       "      <td>No</td>\n",
       "      <td>No</td>\n",
       "      <td>No</td>\n",
       "      <td>Modified</td>\n",
       "    </tr>\n",
       "    <tr>\n",
       "      <th>1</th>\n",
       "      <td>2a272436-5132-4136-86fa-dcc88c88f482</td>\n",
       "      <td>660728</td>\n",
       "      <td>API</td>\n",
       "      <td>Organic Search</td>\n",
       "      <td>No</td>\n",
       "      <td>No</td>\n",
       "      <td>0</td>\n",
       "      <td>5.0</td>\n",
       "      <td>674</td>\n",
       "      <td>2.5</td>\n",
       "      <td>...</td>\n",
       "      <td>No</td>\n",
       "      <td>No</td>\n",
       "      <td>No</td>\n",
       "      <td>No</td>\n",
       "      <td>No</td>\n",
       "      <td>No</td>\n",
       "      <td>No</td>\n",
       "      <td>No</td>\n",
       "      <td>No</td>\n",
       "      <td>Email Opened</td>\n",
       "    </tr>\n",
       "    <tr>\n",
       "      <th>2</th>\n",
       "      <td>8cc8c611-a219-4f35-ad23-fdfd2656bd8a</td>\n",
       "      <td>660727</td>\n",
       "      <td>Landing Page Submission</td>\n",
       "      <td>Direct Traffic</td>\n",
       "      <td>No</td>\n",
       "      <td>No</td>\n",
       "      <td>1</td>\n",
       "      <td>2.0</td>\n",
       "      <td>1532</td>\n",
       "      <td>2.0</td>\n",
       "      <td>...</td>\n",
       "      <td>No</td>\n",
       "      <td>No</td>\n",
       "      <td>No</td>\n",
       "      <td>No</td>\n",
       "      <td>No</td>\n",
       "      <td>No</td>\n",
       "      <td>No</td>\n",
       "      <td>No</td>\n",
       "      <td>Yes</td>\n",
       "      <td>Email Opened</td>\n",
       "    </tr>\n",
       "    <tr>\n",
       "      <th>3</th>\n",
       "      <td>0cc2df48-7cf4-4e39-9de9-19797f9b38cc</td>\n",
       "      <td>660719</td>\n",
       "      <td>Landing Page Submission</td>\n",
       "      <td>Direct Traffic</td>\n",
       "      <td>No</td>\n",
       "      <td>No</td>\n",
       "      <td>0</td>\n",
       "      <td>1.0</td>\n",
       "      <td>305</td>\n",
       "      <td>1.0</td>\n",
       "      <td>...</td>\n",
       "      <td>No</td>\n",
       "      <td>No</td>\n",
       "      <td>No</td>\n",
       "      <td>No</td>\n",
       "      <td>No</td>\n",
       "      <td>No</td>\n",
       "      <td>No</td>\n",
       "      <td>No</td>\n",
       "      <td>No</td>\n",
       "      <td>Modified</td>\n",
       "    </tr>\n",
       "    <tr>\n",
       "      <th>4</th>\n",
       "      <td>3256f628-e534-4826-9d63-4a8b88782852</td>\n",
       "      <td>660681</td>\n",
       "      <td>Landing Page Submission</td>\n",
       "      <td>Google</td>\n",
       "      <td>No</td>\n",
       "      <td>No</td>\n",
       "      <td>1</td>\n",
       "      <td>2.0</td>\n",
       "      <td>1428</td>\n",
       "      <td>1.0</td>\n",
       "      <td>...</td>\n",
       "      <td>No</td>\n",
       "      <td>No</td>\n",
       "      <td>No</td>\n",
       "      <td>No</td>\n",
       "      <td>No</td>\n",
       "      <td>No</td>\n",
       "      <td>No</td>\n",
       "      <td>No</td>\n",
       "      <td>No</td>\n",
       "      <td>Modified</td>\n",
       "    </tr>\n",
       "  </tbody>\n",
       "</table>\n",
       "<p>5 rows × 27 columns</p>\n",
       "</div>"
      ],
      "text/plain": [
       "                            Prospect ID  Lead Number              Lead Origin  \\\n",
       "0  7927b2df-8bba-4d29-b9a2-b6e0beafe620       660737                      API   \n",
       "1  2a272436-5132-4136-86fa-dcc88c88f482       660728                      API   \n",
       "2  8cc8c611-a219-4f35-ad23-fdfd2656bd8a       660727  Landing Page Submission   \n",
       "3  0cc2df48-7cf4-4e39-9de9-19797f9b38cc       660719  Landing Page Submission   \n",
       "4  3256f628-e534-4826-9d63-4a8b88782852       660681  Landing Page Submission   \n",
       "\n",
       "      Lead Source Do Not Email Do Not Call  Converted  TotalVisits  \\\n",
       "0      Olark Chat           No          No          0          0.0   \n",
       "1  Organic Search           No          No          0          5.0   \n",
       "2  Direct Traffic           No          No          1          2.0   \n",
       "3  Direct Traffic           No          No          0          1.0   \n",
       "4          Google           No          No          1          2.0   \n",
       "\n",
       "   Total Time Spent on Website  Page Views Per Visit          ...           \\\n",
       "0                            0                   0.0          ...            \n",
       "1                          674                   2.5          ...            \n",
       "2                         1532                   2.0          ...            \n",
       "3                          305                   1.0          ...            \n",
       "4                         1428                   1.0          ...            \n",
       "\n",
       "  X Education Forums Newspaper Digital Advertisement Through Recommendations  \\\n",
       "0                 No        No                    No                      No   \n",
       "1                 No        No                    No                      No   \n",
       "2                 No        No                    No                      No   \n",
       "3                 No        No                    No                      No   \n",
       "4                 No        No                    No                      No   \n",
       "\n",
       "  Receive More Updates About Our Courses Update me on Supply Chain Content  \\\n",
       "0                                     No                                No   \n",
       "1                                     No                                No   \n",
       "2                                     No                                No   \n",
       "3                                     No                                No   \n",
       "4                                     No                                No   \n",
       "\n",
       "  Get updates on DM Content I agree to pay the amount through cheque  \\\n",
       "0                        No                                       No   \n",
       "1                        No                                       No   \n",
       "2                        No                                       No   \n",
       "3                        No                                       No   \n",
       "4                        No                                       No   \n",
       "\n",
       "  A free copy of Mastering The Interview Last Notable Activity  \n",
       "0                                     No              Modified  \n",
       "1                                     No          Email Opened  \n",
       "2                                    Yes          Email Opened  \n",
       "3                                     No              Modified  \n",
       "4                                     No              Modified  \n",
       "\n",
       "[5 rows x 27 columns]"
      ]
     },
     "execution_count": 12,
     "metadata": {},
     "output_type": "execute_result"
    }
   ],
   "source": [
    "#Inspecting master data frame entries after dropping unimportant columns\n",
    "df_leads.head()"
   ]
  },
  {
   "cell_type": "markdown",
   "metadata": {},
   "source": [
    "#### Treating missing values in row"
   ]
  },
  {
   "cell_type": "code",
   "execution_count": 13,
   "metadata": {},
   "outputs": [
    {
     "data": {
      "text/plain": [
       "9"
      ]
     },
     "execution_count": 13,
     "metadata": {},
     "output_type": "execute_result"
    }
   ],
   "source": [
    "#Inspecting  number of rows with more than 5 missing values\n",
    "len(df_leads[df_leads.isnull().sum(axis=1)>4].index)"
   ]
  },
  {
   "cell_type": "code",
   "execution_count": 14,
   "metadata": {},
   "outputs": [
    {
     "data": {
      "text/plain": [
       "0.1"
      ]
     },
     "execution_count": 14,
     "metadata": {},
     "output_type": "execute_result"
    }
   ],
   "source": [
    "#Inspecting null values percentage of rows\n",
    "round(100*(len(df_leads[df_leads.isnull().sum(axis=1)>4].index)/len(df_leads.index)),2)"
   ]
  },
  {
   "cell_type": "code",
   "execution_count": 15,
   "metadata": {},
   "outputs": [],
   "source": [
    "# Removing all the rows with null values greater than 5\n",
    "df_leads=df_leads[df_leads.isnull().sum(axis=1)<=5]"
   ]
  },
  {
   "cell_type": "code",
   "execution_count": 16,
   "metadata": {},
   "outputs": [
    {
     "data": {
      "text/plain": [
       "Prospect ID                                       0.00\n",
       "Lead Number                                       0.00\n",
       "Lead Origin                                       0.00\n",
       "Lead Source                                       0.39\n",
       "Do Not Email                                      0.00\n",
       "Do Not Call                                       0.00\n",
       "Converted                                         0.00\n",
       "TotalVisits                                       1.48\n",
       "Total Time Spent on Website                       0.00\n",
       "Page Views Per Visit                              1.48\n",
       "Last Activity                                     1.11\n",
       "Country                                          26.63\n",
       "What is your current occupation                  29.11\n",
       "What matters most to you in choosing a course    29.32\n",
       "Search                                            0.00\n",
       "Magazine                                          0.00\n",
       "Newspaper Article                                 0.00\n",
       "X Education Forums                                0.00\n",
       "Newspaper                                         0.00\n",
       "Digital Advertisement                             0.00\n",
       "Through Recommendations                           0.00\n",
       "Receive More Updates About Our Courses            0.00\n",
       "Update me on Supply Chain Content                 0.00\n",
       "Get updates on DM Content                         0.00\n",
       "I agree to pay the amount through cheque          0.00\n",
       "A free copy of Mastering The Interview            0.00\n",
       "Last Notable Activity                             0.00\n",
       "dtype: float64"
      ]
     },
     "execution_count": 16,
     "metadata": {},
     "output_type": "execute_result"
    }
   ],
   "source": [
    "#Inspecting master data frame after cleaning all null value rows.\n",
    "round(100*((df_leads.isnull().sum())/len(df_leads.index)),2)"
   ]
  },
  {
   "cell_type": "code",
   "execution_count": 17,
   "metadata": {},
   "outputs": [
    {
     "data": {
      "text/plain": [
       "count      6779\n",
       "unique       38\n",
       "top       India\n",
       "freq       6492\n",
       "Name: Country, dtype: object"
      ]
     },
     "execution_count": 17,
     "metadata": {},
     "output_type": "execute_result"
    }
   ],
   "source": [
    "#Checking country column stats as it contains 265 of null values\n",
    "df_leads['Country'].describe()"
   ]
  },
  {
   "cell_type": "code",
   "execution_count": 18,
   "metadata": {},
   "outputs": [],
   "source": [
    "#Removing the Country column due to redundance and large percentage of null values\n",
    "df_leads.drop(['Country'],axis=1,inplace=True)"
   ]
  },
  {
   "cell_type": "code",
   "execution_count": 19,
   "metadata": {},
   "outputs": [],
   "source": [
    "#Dropping two more valiables to eliminate large percentage of null values in columns\n",
    "df_leads.drop(['What matters most to you in choosing a course','What is your current occupation'],axis=1,inplace=True)"
   ]
  },
  {
   "cell_type": "code",
   "execution_count": 20,
   "metadata": {},
   "outputs": [
    {
     "data": {
      "text/plain": [
       "Prospect ID                                 0.00\n",
       "Lead Number                                 0.00\n",
       "Lead Origin                                 0.00\n",
       "Lead Source                                 0.39\n",
       "Do Not Email                                0.00\n",
       "Do Not Call                                 0.00\n",
       "Converted                                   0.00\n",
       "TotalVisits                                 1.48\n",
       "Total Time Spent on Website                 0.00\n",
       "Page Views Per Visit                        1.48\n",
       "Last Activity                               1.11\n",
       "Search                                      0.00\n",
       "Magazine                                    0.00\n",
       "Newspaper Article                           0.00\n",
       "X Education Forums                          0.00\n",
       "Newspaper                                   0.00\n",
       "Digital Advertisement                       0.00\n",
       "Through Recommendations                     0.00\n",
       "Receive More Updates About Our Courses      0.00\n",
       "Update me on Supply Chain Content           0.00\n",
       "Get updates on DM Content                   0.00\n",
       "I agree to pay the amount through cheque    0.00\n",
       "A free copy of Mastering The Interview      0.00\n",
       "Last Notable Activity                       0.00\n",
       "dtype: float64"
      ]
     },
     "execution_count": 20,
     "metadata": {},
     "output_type": "execute_result"
    }
   ],
   "source": [
    "#Inspecting final master data frame after removal of columns with large %age of null values\n",
    "round(100*((df_leads.isnull().sum())/len(df_leads.index)),2)"
   ]
  },
  {
   "cell_type": "code",
   "execution_count": 21,
   "metadata": {},
   "outputs": [
    {
     "name": "stdout",
     "output_type": "stream",
     "text": [
      "count    9103.000000\n",
      "mean        3.445238\n",
      "std         4.854853\n",
      "min         0.000000\n",
      "25%         1.000000\n",
      "50%         3.000000\n",
      "75%         5.000000\n",
      "max       251.000000\n",
      "Name: TotalVisits, dtype: float64\n"
     ]
    },
    {
     "data": {
      "text/plain": [
       "137"
      ]
     },
     "execution_count": 21,
     "metadata": {},
     "output_type": "execute_result"
    }
   ],
   "source": [
    "#Inspecting 'Total Visits' stats as it contains 1.48% of null values\n",
    "print(df_leads['TotalVisits'].describe())\n",
    "df_leads['TotalVisits'].isnull().sum()"
   ]
  },
  {
   "cell_type": "code",
   "execution_count": 22,
   "metadata": {},
   "outputs": [],
   "source": [
    "#Removing Nans in 'TotalVisits' columns\n",
    "df_leads=df_leads[~np.isnan(df_leads['TotalVisits'])]"
   ]
  },
  {
   "cell_type": "code",
   "execution_count": 23,
   "metadata": {},
   "outputs": [],
   "source": [
    "# Removing Nulls in 'Lead Source' as it contains 0.39% of null values\n",
    "df_leads=df_leads[~df_leads['Lead Source'].isnull()]"
   ]
  },
  {
   "cell_type": "code",
   "execution_count": 24,
   "metadata": {},
   "outputs": [
    {
     "data": {
      "text/plain": [
       "Prospect ID                                 0.0\n",
       "Lead Number                                 0.0\n",
       "Lead Origin                                 0.0\n",
       "Lead Source                                 0.0\n",
       "Do Not Email                                0.0\n",
       "Do Not Call                                 0.0\n",
       "Converted                                   0.0\n",
       "TotalVisits                                 0.0\n",
       "Total Time Spent on Website                 0.0\n",
       "Page Views Per Visit                        0.0\n",
       "Last Activity                               0.0\n",
       "Search                                      0.0\n",
       "Magazine                                    0.0\n",
       "Newspaper Article                           0.0\n",
       "X Education Forums                          0.0\n",
       "Newspaper                                   0.0\n",
       "Digital Advertisement                       0.0\n",
       "Through Recommendations                     0.0\n",
       "Receive More Updates About Our Courses      0.0\n",
       "Update me on Supply Chain Content           0.0\n",
       "Get updates on DM Content                   0.0\n",
       "I agree to pay the amount through cheque    0.0\n",
       "A free copy of Mastering The Interview      0.0\n",
       "Last Notable Activity                       0.0\n",
       "dtype: float64"
      ]
     },
     "execution_count": 24,
     "metadata": {},
     "output_type": "execute_result"
    }
   ],
   "source": [
    "#Inspecting final master data frame after removing null values\n",
    "round(100*((df_leads.isnull().sum())/len(df_leads.index)),2)"
   ]
  },
  {
   "cell_type": "code",
   "execution_count": 25,
   "metadata": {},
   "outputs": [
    {
     "data": {
      "text/plain": [
       "(9074, 24)"
      ]
     },
     "execution_count": 25,
     "metadata": {},
     "output_type": "execute_result"
    }
   ],
   "source": [
    "#Inspecting total no of available rows without any null values.\n",
    "df_leads.shape"
   ]
  },
  {
   "cell_type": "markdown",
   "metadata": {},
   "source": [
    "#### We are left with over 9000 rows and 24 columns and no null values"
   ]
  },
  {
   "cell_type": "code",
   "execution_count": 26,
   "metadata": {
    "scrolled": false
   },
   "outputs": [
    {
     "name": "stdout",
     "output_type": "stream",
     "text": [
      "<class 'pandas.core.frame.DataFrame'>\n",
      "Int64Index: 9074 entries, 0 to 9239\n",
      "Data columns (total 24 columns):\n",
      "Prospect ID                                 9074 non-null object\n",
      "Lead Number                                 9074 non-null int64\n",
      "Lead Origin                                 9074 non-null object\n",
      "Lead Source                                 9074 non-null object\n",
      "Do Not Email                                9074 non-null object\n",
      "Do Not Call                                 9074 non-null object\n",
      "Converted                                   9074 non-null int64\n",
      "TotalVisits                                 9074 non-null float64\n",
      "Total Time Spent on Website                 9074 non-null int64\n",
      "Page Views Per Visit                        9074 non-null float64\n",
      "Last Activity                               9074 non-null object\n",
      "Search                                      9074 non-null object\n",
      "Magazine                                    9074 non-null object\n",
      "Newspaper Article                           9074 non-null object\n",
      "X Education Forums                          9074 non-null object\n",
      "Newspaper                                   9074 non-null object\n",
      "Digital Advertisement                       9074 non-null object\n",
      "Through Recommendations                     9074 non-null object\n",
      "Receive More Updates About Our Courses      9074 non-null object\n",
      "Update me on Supply Chain Content           9074 non-null object\n",
      "Get updates on DM Content                   9074 non-null object\n",
      "I agree to pay the amount through cheque    9074 non-null object\n",
      "A free copy of Mastering The Interview      9074 non-null object\n",
      "Last Notable Activity                       9074 non-null object\n",
      "dtypes: float64(2), int64(3), object(19)\n",
      "memory usage: 1.7+ MB\n",
      "None\n",
      "         Lead Number    Converted  TotalVisits  Total Time Spent on Website  \\\n",
      "count    9074.000000  9074.000000  9074.000000                  9074.000000   \n",
      "mean   617032.619352     0.378554     3.456028                   482.887481   \n",
      "std     23348.029512     0.485053     4.858802                   545.256560   \n",
      "min    579533.000000     0.000000     0.000000                     0.000000   \n",
      "25%    596406.000000     0.000000     1.000000                    11.000000   \n",
      "50%    615278.500000     0.000000     3.000000                   246.000000   \n",
      "75%    637176.500000     1.000000     5.000000                   922.750000   \n",
      "max    660737.000000     1.000000   251.000000                  2272.000000   \n",
      "\n",
      "       Page Views Per Visit  \n",
      "count           9074.000000  \n",
      "mean               2.370151  \n",
      "std                2.160871  \n",
      "min                0.000000  \n",
      "25%                1.000000  \n",
      "50%                2.000000  \n",
      "75%                3.200000  \n",
      "max               55.000000  \n"
     ]
    }
   ],
   "source": [
    "# Inspecting the cleaned master dataframe\n",
    "print(df_leads.info())\n",
    "print(df_leads.describe())\n",
    "\n",
    "#From below result we can see that we have 5 measurable features and rest all are categorical variables."
   ]
  },
  {
   "cell_type": "markdown",
   "metadata": {},
   "source": [
    "## Data Preparation"
   ]
  },
  {
   "cell_type": "code",
   "execution_count": 27,
   "metadata": {},
   "outputs": [],
   "source": [
    "#Mapping all categorical features with [Yes/No] to corresponding numerical output (Yes:1 and No:0)\n",
    "df_leads['Do Not Email']=df_leads['Do Not Email'].map({'Yes' : 1, \"No\" : 0})"
   ]
  },
  {
   "cell_type": "code",
   "execution_count": 28,
   "metadata": {},
   "outputs": [],
   "source": [
    "df_leads['Do Not Call']=df_leads['Do Not Call'].map({'Yes' : 1, \"No\" : 0})"
   ]
  },
  {
   "cell_type": "code",
   "execution_count": 29,
   "metadata": {},
   "outputs": [],
   "source": [
    "df_leads['Search']=df_leads['Search'].map({'Yes' : 1, \"No\" : 0})\n",
    "df_leads['Magazine']=df_leads['Magazine'].map({'Yes' : 1, \"No\" : 0})\n",
    "df_leads['Newspaper Article']=df_leads['Newspaper Article'].map({'Yes' : 1, \"No\" : 0})\n",
    "df_leads['X Education Forums']=df_leads['X Education Forums'].map({'Yes' : 1, \"No\" : 0})\n",
    "df_leads['Newspaper']=df_leads['Newspaper'].map({'Yes' : 1, \"No\" : 0})\n",
    "df_leads['Digital Advertisement']=df_leads['Digital Advertisement'].map({'Yes' : 1, \"No\" : 0})\n",
    "df_leads['Through Recommendations']=df_leads['Through Recommendations'].map({'Yes' : 1, \"No\" : 0})\n",
    "df_leads['Receive More Updates About Our Courses']=df_leads['Receive More Updates About Our Courses'].map({'Yes' : 1, \"No\" : 0})\n",
    "df_leads['Update me on Supply Chain Content']=df_leads['Update me on Supply Chain Content'].map({'Yes' : 1, \"No\" : 0})\n",
    "df_leads['Get updates on DM Content']=df_leads['Get updates on DM Content'].map({'Yes' : 1, \"No\" : 0})\n",
    "df_leads['I agree to pay the amount through cheque']=df_leads['I agree to pay the amount through cheque'].map({'Yes' : 1, \"No\" : 0})\n",
    "df_leads['A free copy of Mastering The Interview']=df_leads['A free copy of Mastering The Interview'].map({'Yes' : 1, \"No\" : 0})"
   ]
  },
  {
   "cell_type": "code",
   "execution_count": 30,
   "metadata": {},
   "outputs": [],
   "source": [
    "# Creating Dummy Variables for categorical variables with more than two levels\n",
    "# Lead Origin\n",
    "LO=pd.get_dummies(df_leads['Lead Origin'],prefix='Lead Origin',drop_first=True)\n",
    "df_leads=pd.concat([df_leads,LO],axis=1)\n",
    "# Lead Source\n",
    "LS=pd.get_dummies(df_leads['Lead Source'],prefix='Lead Source',drop_first=True)\n",
    "df_leads=pd.concat([df_leads,LS],axis=1)\n",
    "# Last Notable Activity\n",
    "LNA=pd.get_dummies(df_leads['Last Notable Activity'],prefix='Last Notable Activity',drop_first=True)\n",
    "df_leads=pd.concat([df_leads,LNA],axis=1)\n",
    "# Last Activity\n",
    "LA=pd.get_dummies(df_leads['Last Activity'],prefix='Last Activity',drop_first=True)\n",
    "df_leads=pd.concat([df_leads,LA],axis=1)"
   ]
  },
  {
   "cell_type": "code",
   "execution_count": 31,
   "metadata": {},
   "outputs": [],
   "source": [
    "# Dropping the repeated columns for which we created dummy variables above.\n",
    "df_leads=df_leads.drop(['Lead Origin','Lead Source','Last Notable Activity','Last Activity'],1)"
   ]
  },
  {
   "cell_type": "code",
   "execution_count": 32,
   "metadata": {
    "scrolled": true
   },
   "outputs": [
    {
     "name": "stdout",
     "output_type": "stream",
     "text": [
      "<class 'pandas.core.frame.DataFrame'>\n",
      "Int64Index: 9074 entries, 0 to 9239\n",
      "Data columns (total 74 columns):\n",
      "Prospect ID                                           9074 non-null object\n",
      "Lead Number                                           9074 non-null int64\n",
      "Do Not Email                                          9074 non-null int64\n",
      "Do Not Call                                           9074 non-null int64\n",
      "Converted                                             9074 non-null int64\n",
      "TotalVisits                                           9074 non-null float64\n",
      "Total Time Spent on Website                           9074 non-null int64\n",
      "Page Views Per Visit                                  9074 non-null float64\n",
      "Search                                                9074 non-null int64\n",
      "Magazine                                              9074 non-null int64\n",
      "Newspaper Article                                     9074 non-null int64\n",
      "X Education Forums                                    9074 non-null int64\n",
      "Newspaper                                             9074 non-null int64\n",
      "Digital Advertisement                                 9074 non-null int64\n",
      "Through Recommendations                               9074 non-null int64\n",
      "Receive More Updates About Our Courses                9074 non-null int64\n",
      "Update me on Supply Chain Content                     9074 non-null int64\n",
      "Get updates on DM Content                             9074 non-null int64\n",
      "I agree to pay the amount through cheque              9074 non-null int64\n",
      "A free copy of Mastering The Interview                9074 non-null int64\n",
      "Lead Origin_Landing Page Submission                   9074 non-null uint8\n",
      "Lead Origin_Lead Add Form                             9074 non-null uint8\n",
      "Lead Origin_Lead Import                               9074 non-null uint8\n",
      "Lead Source_Direct Traffic                            9074 non-null uint8\n",
      "Lead Source_Facebook                                  9074 non-null uint8\n",
      "Lead Source_Google                                    9074 non-null uint8\n",
      "Lead Source_Live Chat                                 9074 non-null uint8\n",
      "Lead Source_NC_EDM                                    9074 non-null uint8\n",
      "Lead Source_Olark Chat                                9074 non-null uint8\n",
      "Lead Source_Organic Search                            9074 non-null uint8\n",
      "Lead Source_Pay per Click Ads                         9074 non-null uint8\n",
      "Lead Source_Press_Release                             9074 non-null uint8\n",
      "Lead Source_Reference                                 9074 non-null uint8\n",
      "Lead Source_Referral Sites                            9074 non-null uint8\n",
      "Lead Source_Social Media                              9074 non-null uint8\n",
      "Lead Source_WeLearn                                   9074 non-null uint8\n",
      "Lead Source_Welingak Website                          9074 non-null uint8\n",
      "Lead Source_bing                                      9074 non-null uint8\n",
      "Lead Source_blog                                      9074 non-null uint8\n",
      "Lead Source_google                                    9074 non-null uint8\n",
      "Lead Source_testone                                   9074 non-null uint8\n",
      "Lead Source_welearnblog_Home                          9074 non-null uint8\n",
      "Lead Source_youtubechannel                            9074 non-null uint8\n",
      "Last Notable Activity_Email Bounced                   9074 non-null uint8\n",
      "Last Notable Activity_Email Link Clicked              9074 non-null uint8\n",
      "Last Notable Activity_Email Marked Spam               9074 non-null uint8\n",
      "Last Notable Activity_Email Opened                    9074 non-null uint8\n",
      "Last Notable Activity_Email Received                  9074 non-null uint8\n",
      "Last Notable Activity_Form Submitted on Website       9074 non-null uint8\n",
      "Last Notable Activity_Had a Phone Conversation        9074 non-null uint8\n",
      "Last Notable Activity_Modified                        9074 non-null uint8\n",
      "Last Notable Activity_Olark Chat Conversation         9074 non-null uint8\n",
      "Last Notable Activity_Page Visited on Website         9074 non-null uint8\n",
      "Last Notable Activity_Resubscribed to emails          9074 non-null uint8\n",
      "Last Notable Activity_SMS Sent                        9074 non-null uint8\n",
      "Last Notable Activity_Unreachable                     9074 non-null uint8\n",
      "Last Notable Activity_Unsubscribed                    9074 non-null uint8\n",
      "Last Notable Activity_View in browser link Clicked    9074 non-null uint8\n",
      "Last Activity_Converted to Lead                       9074 non-null uint8\n",
      "Last Activity_Email Bounced                           9074 non-null uint8\n",
      "Last Activity_Email Link Clicked                      9074 non-null uint8\n",
      "Last Activity_Email Marked Spam                       9074 non-null uint8\n",
      "Last Activity_Email Opened                            9074 non-null uint8\n",
      "Last Activity_Email Received                          9074 non-null uint8\n",
      "Last Activity_Form Submitted on Website               9074 non-null uint8\n",
      "Last Activity_Had a Phone Conversation                9074 non-null uint8\n",
      "Last Activity_Olark Chat Conversation                 9074 non-null uint8\n",
      "Last Activity_Page Visited on Website                 9074 non-null uint8\n",
      "Last Activity_Resubscribed to emails                  9074 non-null uint8\n",
      "Last Activity_SMS Sent                                9074 non-null uint8\n",
      "Last Activity_Unreachable                             9074 non-null uint8\n",
      "Last Activity_Unsubscribed                            9074 non-null uint8\n",
      "Last Activity_View in browser link Clicked            9074 non-null uint8\n",
      "Last Activity_Visited Booth in Tradeshow              9074 non-null uint8\n",
      "dtypes: float64(2), int64(17), object(1), uint8(54)\n",
      "memory usage: 1.9+ MB\n"
     ]
    }
   ],
   "source": [
    "#Final master data frame has all numerical columns including measures and categorical variables\n",
    "df_leads.info()"
   ]
  },
  {
   "cell_type": "markdown",
   "metadata": {},
   "source": [
    "#### All variables are numeric"
   ]
  },
  {
   "cell_type": "code",
   "execution_count": 33,
   "metadata": {},
   "outputs": [
    {
     "data": {
      "text/html": [
       "<div>\n",
       "<style scoped>\n",
       "    .dataframe tbody tr th:only-of-type {\n",
       "        vertical-align: middle;\n",
       "    }\n",
       "\n",
       "    .dataframe tbody tr th {\n",
       "        vertical-align: top;\n",
       "    }\n",
       "\n",
       "    .dataframe thead th {\n",
       "        text-align: right;\n",
       "    }\n",
       "</style>\n",
       "<table border=\"1\" class=\"dataframe\">\n",
       "  <thead>\n",
       "    <tr style=\"text-align: right;\">\n",
       "      <th></th>\n",
       "      <th>TotalVisits</th>\n",
       "      <th>Total Time Spent on Website</th>\n",
       "      <th>Page Views Per Visit</th>\n",
       "    </tr>\n",
       "  </thead>\n",
       "  <tbody>\n",
       "    <tr>\n",
       "      <th>count</th>\n",
       "      <td>9074.000000</td>\n",
       "      <td>9074.000000</td>\n",
       "      <td>9074.000000</td>\n",
       "    </tr>\n",
       "    <tr>\n",
       "      <th>mean</th>\n",
       "      <td>3.456028</td>\n",
       "      <td>482.887481</td>\n",
       "      <td>2.370151</td>\n",
       "    </tr>\n",
       "    <tr>\n",
       "      <th>std</th>\n",
       "      <td>4.858802</td>\n",
       "      <td>545.256560</td>\n",
       "      <td>2.160871</td>\n",
       "    </tr>\n",
       "    <tr>\n",
       "      <th>min</th>\n",
       "      <td>0.000000</td>\n",
       "      <td>0.000000</td>\n",
       "      <td>0.000000</td>\n",
       "    </tr>\n",
       "    <tr>\n",
       "      <th>25%</th>\n",
       "      <td>1.000000</td>\n",
       "      <td>11.000000</td>\n",
       "      <td>1.000000</td>\n",
       "    </tr>\n",
       "    <tr>\n",
       "      <th>50%</th>\n",
       "      <td>3.000000</td>\n",
       "      <td>246.000000</td>\n",
       "      <td>2.000000</td>\n",
       "    </tr>\n",
       "    <tr>\n",
       "      <th>75%</th>\n",
       "      <td>5.000000</td>\n",
       "      <td>922.750000</td>\n",
       "      <td>3.200000</td>\n",
       "    </tr>\n",
       "    <tr>\n",
       "      <th>90%</th>\n",
       "      <td>7.000000</td>\n",
       "      <td>1373.000000</td>\n",
       "      <td>5.000000</td>\n",
       "    </tr>\n",
       "    <tr>\n",
       "      <th>99%</th>\n",
       "      <td>17.000000</td>\n",
       "      <td>1839.000000</td>\n",
       "      <td>9.000000</td>\n",
       "    </tr>\n",
       "    <tr>\n",
       "      <th>max</th>\n",
       "      <td>251.000000</td>\n",
       "      <td>2272.000000</td>\n",
       "      <td>55.000000</td>\n",
       "    </tr>\n",
       "  </tbody>\n",
       "</table>\n",
       "</div>"
      ],
      "text/plain": [
       "       TotalVisits  Total Time Spent on Website  Page Views Per Visit\n",
       "count  9074.000000                  9074.000000           9074.000000\n",
       "mean      3.456028                   482.887481              2.370151\n",
       "std       4.858802                   545.256560              2.160871\n",
       "min       0.000000                     0.000000              0.000000\n",
       "25%       1.000000                    11.000000              1.000000\n",
       "50%       3.000000                   246.000000              2.000000\n",
       "75%       5.000000                   922.750000              3.200000\n",
       "90%       7.000000                  1373.000000              5.000000\n",
       "99%      17.000000                  1839.000000              9.000000\n",
       "max     251.000000                  2272.000000             55.000000"
      ]
     },
     "execution_count": 33,
     "metadata": {},
     "output_type": "execute_result"
    }
   ],
   "source": [
    "#Inspecting data variance of numerical columns \n",
    "df_num=df_leads[['TotalVisits','Total Time Spent on Website','Page Views Per Visit']]\n",
    "df_num.describe(percentiles=[.25,.5,.75,.90,.99])"
   ]
  },
  {
   "cell_type": "code",
   "execution_count": 34,
   "metadata": {},
   "outputs": [
    {
     "data": {
      "text/plain": [
       "{'whiskers': [<matplotlib.lines.Line2D at 0x18f89cee320>,\n",
       "  <matplotlib.lines.Line2D at 0x18f89cee7b8>],\n",
       " 'caps': [<matplotlib.lines.Line2D at 0x18f89ceebe0>,\n",
       "  <matplotlib.lines.Line2D at 0x18f89cf8048>],\n",
       " 'boxes': [<matplotlib.lines.Line2D at 0x18f89cee1d0>],\n",
       " 'medians': [<matplotlib.lines.Line2D at 0x18f89cf8470>],\n",
       " 'fliers': [<matplotlib.lines.Line2D at 0x18f89cf8898>],\n",
       " 'means': []}"
      ]
     },
     "execution_count": 34,
     "metadata": {},
     "output_type": "execute_result"
    },
    {
     "data": {
      "image/png": "[encoded data removed]",
      "text/plain": [
       "<Figure size 1152x720 with 3 Axes>"
      ]
     },
     "metadata": {},
     "output_type": "display_data"
    }
   ],
   "source": [
    "#Plotting all three above numerical columns to look for any outliers\n",
    "plt.figure(figsize=(16,10))\n",
    "plt.subplot(2,2,1)\n",
    "plt.boxplot(df_leads['TotalVisits'])\n",
    "plt.subplot(2,2,2)\n",
    "plt.boxplot(df_leads['Total Time Spent on Website'])\n",
    "plt.subplot(2,2,3)\n",
    "plt.boxplot(df_leads['Page Views Per Visit'])"
   ]
  },
  {
   "cell_type": "markdown",
   "metadata": {},
   "source": [
    "### Outliers exist but can be dealt with after creating Principal Components"
   ]
  },
  {
   "cell_type": "markdown",
   "metadata": {},
   "source": [
    "## Standardise the data"
   ]
  },
  {
   "cell_type": "code",
   "execution_count": 35,
   "metadata": {},
   "outputs": [],
   "source": [
    "#Importing sklearn package for reducing all numerical variables to same scale.\n",
    "from sklearn.preprocessing import StandardScaler\n",
    "scaler=StandardScaler()\n",
    "df_leads[['TotalVisits','Total Time Spent on Website','Page Views Per Visit']]=scaler.fit_transform(df_leads[['TotalVisits','Total Time Spent on Website','Page Views Per Visit']])"
   ]
  },
  {
   "cell_type": "code",
   "execution_count": 36,
   "metadata": {},
   "outputs": [
    {
     "data": {
      "text/html": [
       "<div>\n",
       "<style scoped>\n",
       "    .dataframe tbody tr th:only-of-type {\n",
       "        vertical-align: middle;\n",
       "    }\n",
       "\n",
       "    .dataframe tbody tr th {\n",
       "        vertical-align: top;\n",
       "    }\n",
       "\n",
       "    .dataframe thead th {\n",
       "        text-align: right;\n",
       "    }\n",
       "</style>\n",
       "<table border=\"1\" class=\"dataframe\">\n",
       "  <thead>\n",
       "    <tr style=\"text-align: right;\">\n",
       "      <th></th>\n",
       "      <th>TotalVisits</th>\n",
       "      <th>Total Time Spent on Website</th>\n",
       "      <th>Page Views Per Visit</th>\n",
       "    </tr>\n",
       "  </thead>\n",
       "  <tbody>\n",
       "    <tr>\n",
       "      <th>count</th>\n",
       "      <td>9.074000e+03</td>\n",
       "      <td>9.074000e+03</td>\n",
       "      <td>9.074000e+03</td>\n",
       "    </tr>\n",
       "    <tr>\n",
       "      <th>mean</th>\n",
       "      <td>-5.285366e-16</td>\n",
       "      <td>-2.310497e-16</td>\n",
       "      <td>4.933237e-16</td>\n",
       "    </tr>\n",
       "    <tr>\n",
       "      <th>std</th>\n",
       "      <td>1.000055e+00</td>\n",
       "      <td>1.000055e+00</td>\n",
       "      <td>1.000055e+00</td>\n",
       "    </tr>\n",
       "    <tr>\n",
       "      <th>min</th>\n",
       "      <td>-7.113315e-01</td>\n",
       "      <td>-8.856640e-01</td>\n",
       "      <td>-1.096911e+00</td>\n",
       "    </tr>\n",
       "    <tr>\n",
       "      <th>25%</th>\n",
       "      <td>-5.055081e-01</td>\n",
       "      <td>-8.654889e-01</td>\n",
       "      <td>-6.341086e-01</td>\n",
       "    </tr>\n",
       "    <tr>\n",
       "      <th>50%</th>\n",
       "      <td>-9.386128e-02</td>\n",
       "      <td>-4.344754e-01</td>\n",
       "      <td>-1.713066e-01</td>\n",
       "    </tr>\n",
       "    <tr>\n",
       "      <th>75%</th>\n",
       "      <td>3.177855e-01</td>\n",
       "      <td>8.067519e-01</td>\n",
       "      <td>3.840558e-01</td>\n",
       "    </tr>\n",
       "    <tr>\n",
       "      <th>max</th>\n",
       "      <td>5.095034e+01</td>\n",
       "      <td>3.281411e+00</td>\n",
       "      <td>2.435720e+01</td>\n",
       "    </tr>\n",
       "  </tbody>\n",
       "</table>\n",
       "</div>"
      ],
      "text/plain": [
       "        TotalVisits  Total Time Spent on Website  Page Views Per Visit\n",
       "count  9.074000e+03                 9.074000e+03          9.074000e+03\n",
       "mean  -5.285366e-16                -2.310497e-16          4.933237e-16\n",
       "std    1.000055e+00                 1.000055e+00          1.000055e+00\n",
       "min   -7.113315e-01                -8.856640e-01         -1.096911e+00\n",
       "25%   -5.055081e-01                -8.654889e-01         -6.341086e-01\n",
       "50%   -9.386128e-02                -4.344754e-01         -1.713066e-01\n",
       "75%    3.177855e-01                 8.067519e-01          3.840558e-01\n",
       "max    5.095034e+01                 3.281411e+00          2.435720e+01"
      ]
     },
     "execution_count": 36,
     "metadata": {},
     "output_type": "execute_result"
    }
   ],
   "source": [
    "#Inspecting variance of numerical features after standardization\n",
    "df_leads[['TotalVisits','Total Time Spent on Website','Page Views Per Visit']].describe()"
   ]
  },
  {
   "cell_type": "code",
   "execution_count": 37,
   "metadata": {},
   "outputs": [
    {
     "data": {
      "text/plain": [
       "{'whiskers': [<matplotlib.lines.Line2D at 0x18f89598a58>,\n",
       "  <matplotlib.lines.Line2D at 0x18f89598ef0>],\n",
       " 'caps': [<matplotlib.lines.Line2D at 0x18f895a1358>,\n",
       "  <matplotlib.lines.Line2D at 0x18f895a1780>],\n",
       " 'boxes': [<matplotlib.lines.Line2D at 0x18f89598908>],\n",
       " 'medians': [<matplotlib.lines.Line2D at 0x18f895a1ba8>],\n",
       " 'fliers': [<matplotlib.lines.Line2D at 0x18f895a1fd0>],\n",
       " 'means': []}"
      ]
     },
     "execution_count": 37,
     "metadata": {},
     "output_type": "execute_result"
    },
    {
     "data": {
      "image/png": "[encoded data removed]",
      "text/plain": [
       "<Figure size 1152x720 with 3 Axes>"
      ]
     },
     "metadata": {},
     "output_type": "display_data"
    }
   ],
   "source": [
    "#Checking for outliers after standardization\n",
    "plt.figure(figsize=(16,10))\n",
    "plt.subplot(2,2,1)\n",
    "plt.boxplot(df_leads['TotalVisits'])\n",
    "plt.subplot(2,2,2)\n",
    "plt.boxplot(df_leads['Total Time Spent on Website'])\n",
    "plt.subplot(2,2,3)\n",
    "plt.boxplot(df_leads['Page Views Per Visit'])"
   ]
  },
  {
   "cell_type": "code",
   "execution_count": 38,
   "metadata": {},
   "outputs": [
    {
     "data": {
      "text/plain": [
       "37.85541106458012"
      ]
     },
     "execution_count": 38,
     "metadata": {},
     "output_type": "execute_result"
    }
   ],
   "source": [
    "# Checking the churn rate to check the overall balance in master leads data\n",
    "churn = (sum(df_leads['Converted'])/len(df_leads['Converted'].index))*100\n",
    "churn"
   ]
  },
  {
   "cell_type": "markdown",
   "metadata": {},
   "source": [
    "#### We have almost 38% churn rate"
   ]
  },
  {
   "cell_type": "code",
   "execution_count": 39,
   "metadata": {},
   "outputs": [],
   "source": [
    "#Dropping unique index columns before performing PCA as it can be done only on numerical data\n",
    "df_Id=df_leads[['Prospect ID','Lead Number']]"
   ]
  },
  {
   "cell_type": "code",
   "execution_count": 40,
   "metadata": {},
   "outputs": [],
   "source": [
    "#Dropping 'Prospect ID','Lead Number' as they are just identification number.\n",
    "df_leads.drop(['Prospect ID','Lead Number'],axis=1,inplace=True)"
   ]
  },
  {
   "cell_type": "markdown",
   "metadata": {},
   "source": [
    "<b> PCA"
   ]
  },
  {
   "cell_type": "code",
   "execution_count": 41,
   "metadata": {},
   "outputs": [
    {
     "name": "stderr",
     "output_type": "stream",
     "text": [
      "C:\\Users\\Shivali_Dalmia\\AppData\\Local\\Continuum\\anaconda3\\lib\\site-packages\\sklearn\\cross_validation.py:41: DeprecationWarning: This module was deprecated in version 0.18 in favor of the model_selection module into which all the refactored classes and functions are moved. Also note that the interface of the new CV iterators are different from that of this module. This module will be removed in 0.20.\n",
      "  \"This module will be removed in 0.20.\", DeprecationWarning)\n"
     ]
    }
   ],
   "source": [
    "#Splitting master data into test and train for model building and evaluation\n",
    "from sklearn.cross_validation import train_test_split\n",
    "\n",
    "y=df_leads['Converted']\n",
    "X=df_leads.drop(['Converted'],axis=1)\n",
    "\n",
    "# split the data set into train and test\n",
    "X_train, X_test, y_train, y_test = train_test_split(X, y, test_size=0.3, random_state=0)"
   ]
  },
  {
   "cell_type": "code",
   "execution_count": 42,
   "metadata": {},
   "outputs": [
    {
     "data": {
      "text/plain": [
       "(6351, 71)"
      ]
     },
     "execution_count": 42,
     "metadata": {},
     "output_type": "execute_result"
    }
   ],
   "source": [
    "#Checking train set size\n",
    "X_train.shape"
   ]
  },
  {
   "cell_type": "code",
   "execution_count": 43,
   "metadata": {},
   "outputs": [
    {
     "data": {
      "text/plain": [
       "PCA(copy=True, iterated_power='auto', n_components=None, random_state=42,\n",
       "  svd_solver='randomized', tol=0.0, whiten=False)"
      ]
     },
     "execution_count": 43,
     "metadata": {},
     "output_type": "execute_result"
    }
   ],
   "source": [
    "#Importing the PCA module to identify principal components using train data\n",
    "from sklearn.decomposition import PCA\n",
    "pca = PCA(svd_solver='randomized', random_state=42)\n",
    "pca.fit(X_train)"
   ]
  },
  {
   "cell_type": "code",
   "execution_count": 44,
   "metadata": {},
   "outputs": [
    {
     "data": {
      "text/plain": [
       "array([3.22182140e-01, 1.47015992e-01, 1.00571904e-01, 9.14719495e-02,\n",
       "       7.33311799e-02, 6.61169848e-02, 3.81961778e-02, 2.43221056e-02,\n",
       "       1.92647931e-02, 1.87858442e-02, 1.53252605e-02, 1.28370419e-02,\n",
       "       1.17319935e-02, 1.05855362e-02, 9.19834597e-03, 6.72181144e-03,\n",
       "       5.13848079e-03, 3.62389049e-03, 3.42007863e-03, 3.19352753e-03,\n",
       "       2.78780122e-03, 2.52627864e-03, 2.33076217e-03, 1.94188845e-03,\n",
       "       1.57077970e-03, 1.21311665e-03, 1.03751862e-03, 8.12077188e-04,\n",
       "       7.20570087e-04, 3.52871622e-04, 2.58157945e-04, 1.84848831e-04,\n",
       "       1.64129161e-04, 1.28131854e-04, 1.15049049e-04, 1.02040292e-04,\n",
       "       9.29535334e-05, 8.21914269e-05, 6.96670406e-05, 5.38074126e-05,\n",
       "       5.37362473e-05, 4.38271281e-05, 3.19640407e-05, 2.69874226e-05,\n",
       "       2.69843204e-05, 2.69818348e-05, 2.69654328e-05, 2.69069927e-05,\n",
       "       2.68649747e-05, 2.67332619e-05, 2.61754282e-05, 2.36556629e-05,\n",
       "       1.79408419e-05, 1.46232277e-05, 1.35829536e-05, 5.34583434e-06,\n",
       "       1.04561438e-06, 6.35392236e-32, 1.60019831e-33, 1.58871089e-33,\n",
       "       1.58871089e-33, 1.58871089e-33, 1.58871089e-33, 1.58871089e-33,\n",
       "       1.58871089e-33, 1.58871089e-33, 1.58871089e-33, 1.58871089e-33,\n",
       "       1.58871089e-33, 1.58871089e-33, 1.58871089e-33])"
      ]
     },
     "execution_count": 44,
     "metadata": {},
     "output_type": "execute_result"
    }
   ],
   "source": [
    "#Checking variance of all principal components identified\n",
    "pca.explained_variance_ratio_"
   ]
  },
  {
   "cell_type": "code",
   "execution_count": 45,
   "metadata": {},
   "outputs": [
    {
     "data": {
      "image/png": "[encoded data removed]",
      "text/plain": [
       "<Figure size 864x432 with 1 Axes>"
      ]
     },
     "metadata": {},
     "output_type": "display_data"
    }
   ],
   "source": [
    "#Making the screeplot - plotting the cumulative variance against the number of components to identify optimum number of principal components\n",
    "%matplotlib inline\n",
    "fig = plt.figure(figsize = (12,6))\n",
    "plt.plot(np.cumsum(pca.explained_variance_ratio_))\n",
    "plt.xlabel('number of components')\n",
    "plt.ylabel('cumulative explained variance')\n",
    "plt.show()"
   ]
  },
  {
   "cell_type": "markdown",
   "metadata": {},
   "source": [
    "<b> We see that first 15 principal components explains more than 90% variance. "
   ]
  },
  {
   "cell_type": "code",
   "execution_count": 46,
   "metadata": {},
   "outputs": [
    {
     "data": {
      "text/plain": [
       "PCA(copy=True, iterated_power='auto', n_components=15, random_state=42,\n",
       "  svd_solver='randomized', tol=0.0, whiten=False)"
      ]
     },
     "execution_count": 46,
     "metadata": {},
     "output_type": "execute_result"
    }
   ],
   "source": [
    "#Doing PCA with 15 components as they show approx 95% of variance in train data set\n",
    "pca_final = PCA(svd_solver='randomized', random_state=42,n_components=15)\n",
    "pca_final.fit(X_train)"
   ]
  },
  {
   "cell_type": "code",
   "execution_count": 47,
   "metadata": {},
   "outputs": [
    {
     "data": {
      "text/plain": [
       "(6351, 15)"
      ]
     },
     "execution_count": 47,
     "metadata": {},
     "output_type": "execute_result"
    }
   ],
   "source": [
    "#Fitting train data set of principal components\n",
    "train_pca = pca_final.fit_transform(X_train)\n",
    "train_pca.shape"
   ]
  },
  {
   "cell_type": "code",
   "execution_count": 48,
   "metadata": {},
   "outputs": [
    {
     "data": {
      "text/plain": [
       "<matplotlib.axes._subplots.AxesSubplot at 0x18f8a58eeb8>"
      ]
     },
     "execution_count": 48,
     "metadata": {},
     "output_type": "execute_result"
    },
    {
     "data": {
      "image/png": "[encoded data removed]",
      "text/plain": [
       "<Figure size 1440x720 with 2 Axes>"
      ]
     },
     "metadata": {},
     "output_type": "display_data"
    }
   ],
   "source": [
    "#Creating correlation matrix for the principal components to see correaltion between all of them\n",
    "corrmat = np.corrcoef(train_pca.transpose())\n",
    "#plotting the correlation matrix\n",
    "%matplotlib inline\n",
    "plt.figure(figsize = (20,10))\n",
    "sns.heatmap(corrmat,annot = True)"
   ]
  },
  {
   "cell_type": "markdown",
   "metadata": {},
   "source": [
    "<b> We see that there are no correlations among variables."
   ]
  },
  {
   "cell_type": "code",
   "execution_count": 49,
   "metadata": {},
   "outputs": [
    {
     "name": "stdout",
     "output_type": "stream",
     "text": [
      "(6351, 15)\n"
     ]
    },
    {
     "data": {
      "text/html": [
       "<div>\n",
       "<style scoped>\n",
       "    .dataframe tbody tr th:only-of-type {\n",
       "        vertical-align: middle;\n",
       "    }\n",
       "\n",
       "    .dataframe tbody tr th {\n",
       "        vertical-align: top;\n",
       "    }\n",
       "\n",
       "    .dataframe thead th {\n",
       "        text-align: right;\n",
       "    }\n",
       "</style>\n",
       "<table border=\"1\" class=\"dataframe\">\n",
       "  <thead>\n",
       "    <tr style=\"text-align: right;\">\n",
       "      <th></th>\n",
       "      <th>0</th>\n",
       "      <th>1</th>\n",
       "      <th>2</th>\n",
       "      <th>3</th>\n",
       "      <th>4</th>\n",
       "      <th>5</th>\n",
       "      <th>6</th>\n",
       "      <th>7</th>\n",
       "      <th>8</th>\n",
       "      <th>9</th>\n",
       "      <th>10</th>\n",
       "      <th>11</th>\n",
       "      <th>12</th>\n",
       "      <th>13</th>\n",
       "      <th>14</th>\n",
       "    </tr>\n",
       "  </thead>\n",
       "  <tbody>\n",
       "    <tr>\n",
       "      <th>0</th>\n",
       "      <td>-1.645776</td>\n",
       "      <td>0.022409</td>\n",
       "      <td>0.949792</td>\n",
       "      <td>-0.081608</td>\n",
       "      <td>0.152353</td>\n",
       "      <td>1.154579</td>\n",
       "      <td>-0.042175</td>\n",
       "      <td>0.910300</td>\n",
       "      <td>0.453423</td>\n",
       "      <td>-0.062601</td>\n",
       "      <td>-0.268045</td>\n",
       "      <td>0.258636</td>\n",
       "      <td>-0.131938</td>\n",
       "      <td>-0.286425</td>\n",
       "      <td>0.070018</td>\n",
       "    </tr>\n",
       "    <tr>\n",
       "      <th>1</th>\n",
       "      <td>-1.724502</td>\n",
       "      <td>0.076014</td>\n",
       "      <td>0.926204</td>\n",
       "      <td>0.007359</td>\n",
       "      <td>0.122161</td>\n",
       "      <td>0.944495</td>\n",
       "      <td>0.278058</td>\n",
       "      <td>-0.426134</td>\n",
       "      <td>-0.106406</td>\n",
       "      <td>0.098267</td>\n",
       "      <td>0.175550</td>\n",
       "      <td>-0.286589</td>\n",
       "      <td>0.195407</td>\n",
       "      <td>-0.043187</td>\n",
       "      <td>0.057129</td>\n",
       "    </tr>\n",
       "    <tr>\n",
       "      <th>2</th>\n",
       "      <td>-1.645776</td>\n",
       "      <td>0.022409</td>\n",
       "      <td>0.949792</td>\n",
       "      <td>-0.081608</td>\n",
       "      <td>0.152353</td>\n",
       "      <td>1.154579</td>\n",
       "      <td>-0.042175</td>\n",
       "      <td>0.910300</td>\n",
       "      <td>0.453423</td>\n",
       "      <td>-0.062601</td>\n",
       "      <td>-0.268045</td>\n",
       "      <td>0.258636</td>\n",
       "      <td>-0.131938</td>\n",
       "      <td>-0.286425</td>\n",
       "      <td>0.070018</td>\n",
       "    </tr>\n",
       "    <tr>\n",
       "      <th>3</th>\n",
       "      <td>-0.160157</td>\n",
       "      <td>-0.093410</td>\n",
       "      <td>0.457809</td>\n",
       "      <td>-0.816776</td>\n",
       "      <td>0.933193</td>\n",
       "      <td>-0.503926</td>\n",
       "      <td>-0.289175</td>\n",
       "      <td>0.097042</td>\n",
       "      <td>0.063503</td>\n",
       "      <td>0.483493</td>\n",
       "      <td>-0.062848</td>\n",
       "      <td>-0.115441</td>\n",
       "      <td>0.170962</td>\n",
       "      <td>-0.057421</td>\n",
       "      <td>-0.086228</td>\n",
       "    </tr>\n",
       "    <tr>\n",
       "      <th>4</th>\n",
       "      <td>-0.558958</td>\n",
       "      <td>0.919515</td>\n",
       "      <td>0.447097</td>\n",
       "      <td>0.743165</td>\n",
       "      <td>0.030131</td>\n",
       "      <td>-0.002595</td>\n",
       "      <td>0.375704</td>\n",
       "      <td>-0.395834</td>\n",
       "      <td>0.020446</td>\n",
       "      <td>-1.114015</td>\n",
       "      <td>-0.278130</td>\n",
       "      <td>-0.751025</td>\n",
       "      <td>0.383025</td>\n",
       "      <td>-0.328320</td>\n",
       "      <td>-0.110786</td>\n",
       "    </tr>\n",
       "  </tbody>\n",
       "</table>\n",
       "</div>"
      ],
      "text/plain": [
       "         0         1         2         3         4         5         6   \\\n",
       "0 -1.645776  0.022409  0.949792 -0.081608  0.152353  1.154579 -0.042175   \n",
       "1 -1.724502  0.076014  0.926204  0.007359  0.122161  0.944495  0.278058   \n",
       "2 -1.645776  0.022409  0.949792 -0.081608  0.152353  1.154579 -0.042175   \n",
       "3 -0.160157 -0.093410  0.457809 -0.816776  0.933193 -0.503926 -0.289175   \n",
       "4 -0.558958  0.919515  0.447097  0.743165  0.030131 -0.002595  0.375704   \n",
       "\n",
       "         7         8         9         10        11        12        13  \\\n",
       "0  0.910300  0.453423 -0.062601 -0.268045  0.258636 -0.131938 -0.286425   \n",
       "1 -0.426134 -0.106406  0.098267  0.175550 -0.286589  0.195407 -0.043187   \n",
       "2  0.910300  0.453423 -0.062601 -0.268045  0.258636 -0.131938 -0.286425   \n",
       "3  0.097042  0.063503  0.483493 -0.062848 -0.115441  0.170962 -0.057421   \n",
       "4 -0.395834  0.020446 -1.114015 -0.278130 -0.751025  0.383025 -0.328320   \n",
       "\n",
       "         14  \n",
       "0  0.070018  \n",
       "1  0.057129  \n",
       "2  0.070018  \n",
       "3 -0.086228  \n",
       "4 -0.110786  "
      ]
     },
     "execution_count": 49,
     "metadata": {},
     "output_type": "execute_result"
    }
   ],
   "source": [
    "#Converting trained pca data into data frame and inspecting size of train pca data frame\n",
    "df_train_pca=pd.DataFrame(train_pca)\n",
    "print(df_train_pca.shape)\n",
    "df_train_pca.head()"
   ]
  },
  {
   "cell_type": "code",
   "execution_count": 50,
   "metadata": {},
   "outputs": [],
   "source": [
    "#Predicting the output of lead score on train data set.(Converted)\n",
    "columnList=df_train_pca.columns\n",
    "y_train=y_train.reset_index()\n",
    "df_train_pca['output']=y_train['Converted']"
   ]
  },
  {
   "cell_type": "code",
   "execution_count": 51,
   "metadata": {},
   "outputs": [],
   "source": [
    "# Removing outliers from final pca data frame\n",
    "# Taking 2.5IQR since 1.5 leads to huge loss in data\n",
    "for col in columnList:\n",
    "    Q1 = df_train_pca[col].quantile(0.25)\n",
    "    Q3 = df_train_pca[col].quantile(0.75)\n",
    "    IQR = Q3 - Q1\n",
    "    df_train_pca=df_train_pca[(df_train_pca[col] >= Q1 - 2.5*IQR) & (df_train_pca[col] <= Q3 + 2.5*IQR)]"
   ]
  },
  {
   "cell_type": "code",
   "execution_count": 52,
   "metadata": {},
   "outputs": [
    {
     "name": "stdout",
     "output_type": "stream",
     "text": [
      "(5465, 15)\n"
     ]
    }
   ],
   "source": [
    "#Inpsecting final pca data set for total no of rows available.\n",
    "y_train=df_train_pca['output']\n",
    "df_train_pca.drop(['output'],axis=1,inplace=True)\n",
    "print(df_train_pca.shape)"
   ]
  },
  {
   "cell_type": "code",
   "execution_count": 53,
   "metadata": {},
   "outputs": [
    {
     "data": {
      "text/plain": [
       "(2723, 15)"
      ]
     },
     "execution_count": 53,
     "metadata": {},
     "output_type": "execute_result"
    }
   ],
   "source": [
    "#Applying selected components to the test data - 15 components\n",
    "df_test_pca = pca_final.transform(X_test)\n",
    "df_test_pca.shape"
   ]
  },
  {
   "cell_type": "code",
   "execution_count": 54,
   "metadata": {},
   "outputs": [
    {
     "data": {
      "image/png": "[encoded data removed]",
      "text/plain": [
       "<Figure size 576x576 with 1 Axes>"
      ]
     },
     "metadata": {},
     "output_type": "display_data"
    }
   ],
   "source": [
    "#Plotting two principal commponents to check the variance of data\n",
    "%matplotlib inline\n",
    "fig = plt.figure(figsize = (8,8))\n",
    "plt.scatter(df_train_pca[:][0], df_train_pca[:][1], c = y_train.map({0:'green',1:'red'}))\n",
    "plt.xlabel('Principal Component 1')\n",
    "plt.ylabel('Principal Component 2')\n",
    "plt.tight_layout()\n",
    "plt.show()\n",
    "\n",
    "#From below plot we can see that data points are quite clearly segggregated."
   ]
  },
  {
   "cell_type": "markdown",
   "metadata": {},
   "source": [
    "#### Checking 3d plot for better separation"
   ]
  },
  {
   "cell_type": "code",
   "execution_count": 55,
   "metadata": {},
   "outputs": [
    {
     "data": {
      "image/png": "[encoded data removed]",
      "text/plain": [
       "<Figure size 576x576 with 1 Axes>"
      ]
     },
     "metadata": {},
     "output_type": "display_data"
    }
   ],
   "source": [
    "#Inspecting 3d view of principal components plot\n",
    "%matplotlib inline\n",
    "from mpl_toolkits.mplot3d import Axes3D\n",
    "fig = plt.figure(figsize=(8,8))\n",
    "ax = Axes3D(fig)\n",
    "# ax = plt.axes(projection='3d')\n",
    "ax.scatter( df_train_pca.iloc[:,0], df_train_pca.iloc[:,1], c=y_train.map({0:'green',1:'red'}))\n",
    "plt.show()"
   ]
  },
  {
   "cell_type": "markdown",
   "metadata": {},
   "source": [
    " ### Continue with model building"
   ]
  },
  {
   "cell_type": "code",
   "execution_count": 56,
   "metadata": {},
   "outputs": [],
   "source": [
    "#Applying Logistic Regression\n",
    "#Training the model on the train data\n",
    "from sklearn.linear_model import LogisticRegression\n",
    "from sklearn import metrics\n",
    "\n",
    "learner_pca = LogisticRegression()\n",
    "model_pca = learner_pca.fit(df_train_pca,y_train)"
   ]
  },
  {
   "cell_type": "code",
   "execution_count": 57,
   "metadata": {},
   "outputs": [
    {
     "data": {
      "text/plain": [
       "'0.85'"
      ]
     },
     "execution_count": 57,
     "metadata": {},
     "output_type": "execute_result"
    }
   ],
   "source": [
    "#Making prediction on the test data\n",
    "pred_probs_test = model_pca.predict_proba(df_test_pca)[:,1]\n",
    "\"{:2.2}\".format(metrics.roc_auc_score(y_test, pred_probs_test))\n",
    "\n",
    "#With 15 selected principal components and logistic regression model we have achieved 85% of accuracy "
   ]
  },
  {
   "cell_type": "markdown",
   "metadata": {},
   "source": [
    "### Predictions and Evaluation"
   ]
  },
  {
   "cell_type": "code",
   "execution_count": 58,
   "metadata": {},
   "outputs": [],
   "source": [
    "# Predicted probabilities of conversion on test data set\n",
    "y_pred=model_pca.predict_proba(df_test_pca)\n",
    "# Converting it into dataframe\n",
    "y_pred_df=pd.DataFrame(y_pred)\n",
    "# Converting to column dataframe\n",
    "y_pred_1=y_pred_df.iloc[:,[1]]"
   ]
  },
  {
   "cell_type": "code",
   "execution_count": 59,
   "metadata": {},
   "outputs": [
    {
     "data": {
      "text/html": [
       "<div>\n",
       "<style scoped>\n",
       "    .dataframe tbody tr th:only-of-type {\n",
       "        vertical-align: middle;\n",
       "    }\n",
       "\n",
       "    .dataframe tbody tr th {\n",
       "        vertical-align: top;\n",
       "    }\n",
       "\n",
       "    .dataframe thead th {\n",
       "        text-align: right;\n",
       "    }\n",
       "</style>\n",
       "<table border=\"1\" class=\"dataframe\">\n",
       "  <thead>\n",
       "    <tr style=\"text-align: right;\">\n",
       "      <th></th>\n",
       "      <th>1</th>\n",
       "    </tr>\n",
       "  </thead>\n",
       "  <tbody>\n",
       "    <tr>\n",
       "      <th>0</th>\n",
       "      <td>0.359401</td>\n",
       "    </tr>\n",
       "    <tr>\n",
       "      <th>1</th>\n",
       "      <td>0.307938</td>\n",
       "    </tr>\n",
       "    <tr>\n",
       "      <th>2</th>\n",
       "      <td>0.022670</td>\n",
       "    </tr>\n",
       "    <tr>\n",
       "      <th>3</th>\n",
       "      <td>0.945689</td>\n",
       "    </tr>\n",
       "    <tr>\n",
       "      <th>4</th>\n",
       "      <td>0.897180</td>\n",
       "    </tr>\n",
       "  </tbody>\n",
       "</table>\n",
       "</div>"
      ],
      "text/plain": [
       "          1\n",
       "0  0.359401\n",
       "1  0.307938\n",
       "2  0.022670\n",
       "3  0.945689\n",
       "4  0.897180"
      ]
     },
     "execution_count": 59,
     "metadata": {},
     "output_type": "execute_result"
    }
   ],
   "source": [
    "y_pred_1.head()"
   ]
  },
  {
   "cell_type": "code",
   "execution_count": 60,
   "metadata": {},
   "outputs": [
    {
     "data": {
      "text/html": [
       "<div>\n",
       "<style scoped>\n",
       "    .dataframe tbody tr th:only-of-type {\n",
       "        vertical-align: middle;\n",
       "    }\n",
       "\n",
       "    .dataframe tbody tr th {\n",
       "        vertical-align: top;\n",
       "    }\n",
       "\n",
       "    .dataframe thead th {\n",
       "        text-align: right;\n",
       "    }\n",
       "</style>\n",
       "<table border=\"1\" class=\"dataframe\">\n",
       "  <thead>\n",
       "    <tr style=\"text-align: right;\">\n",
       "      <th></th>\n",
       "      <th>Converted</th>\n",
       "    </tr>\n",
       "  </thead>\n",
       "  <tbody>\n",
       "    <tr>\n",
       "      <th>3374</th>\n",
       "      <td>0</td>\n",
       "    </tr>\n",
       "    <tr>\n",
       "      <th>4262</th>\n",
       "      <td>0</td>\n",
       "    </tr>\n",
       "    <tr>\n",
       "      <th>7855</th>\n",
       "      <td>0</td>\n",
       "    </tr>\n",
       "    <tr>\n",
       "      <th>3017</th>\n",
       "      <td>1</td>\n",
       "    </tr>\n",
       "    <tr>\n",
       "      <th>560</th>\n",
       "      <td>1</td>\n",
       "    </tr>\n",
       "  </tbody>\n",
       "</table>\n",
       "</div>"
      ],
      "text/plain": [
       "      Converted\n",
       "3374          0\n",
       "4262          0\n",
       "7855          0\n",
       "3017          1\n",
       "560           1"
      ]
     },
     "execution_count": 60,
     "metadata": {},
     "output_type": "execute_result"
    }
   ],
   "source": [
    "# Converting y_y_test_df = pd.DataFrame(y_test)\n",
    "y_test_df = pd.DataFrame(y_test)\n",
    "y_test_df.head()"
   ]
  },
  {
   "cell_type": "code",
   "execution_count": 61,
   "metadata": {},
   "outputs": [
    {
     "data": {
      "text/html": [
       "<div>\n",
       "<style scoped>\n",
       "    .dataframe tbody tr th:only-of-type {\n",
       "        vertical-align: middle;\n",
       "    }\n",
       "\n",
       "    .dataframe tbody tr th {\n",
       "        vertical-align: top;\n",
       "    }\n",
       "\n",
       "    .dataframe thead th {\n",
       "        text-align: right;\n",
       "    }\n",
       "</style>\n",
       "<table border=\"1\" class=\"dataframe\">\n",
       "  <thead>\n",
       "    <tr style=\"text-align: right;\">\n",
       "      <th></th>\n",
       "      <th>CustID</th>\n",
       "      <th>Converted</th>\n",
       "      <th>Conv_Prob</th>\n",
       "    </tr>\n",
       "  </thead>\n",
       "  <tbody>\n",
       "    <tr>\n",
       "      <th>0</th>\n",
       "      <td>3374</td>\n",
       "      <td>0</td>\n",
       "      <td>0.359401</td>\n",
       "    </tr>\n",
       "    <tr>\n",
       "      <th>1</th>\n",
       "      <td>4262</td>\n",
       "      <td>0</td>\n",
       "      <td>0.307938</td>\n",
       "    </tr>\n",
       "    <tr>\n",
       "      <th>2</th>\n",
       "      <td>7855</td>\n",
       "      <td>0</td>\n",
       "      <td>0.022670</td>\n",
       "    </tr>\n",
       "    <tr>\n",
       "      <th>3</th>\n",
       "      <td>3017</td>\n",
       "      <td>1</td>\n",
       "      <td>0.945689</td>\n",
       "    </tr>\n",
       "    <tr>\n",
       "      <th>4</th>\n",
       "      <td>560</td>\n",
       "      <td>1</td>\n",
       "      <td>0.897180</td>\n",
       "    </tr>\n",
       "  </tbody>\n",
       "</table>\n",
       "</div>"
      ],
      "text/plain": [
       "   CustID  Converted  Conv_Prob\n",
       "0    3374          0   0.359401\n",
       "1    4262          0   0.307938\n",
       "2    7855          0   0.022670\n",
       "3    3017          1   0.945689\n",
       "4     560          1   0.897180"
      ]
     },
     "execution_count": 61,
     "metadata": {},
     "output_type": "execute_result"
    }
   ],
   "source": [
    "# Putting CustID to index to final output variable data set\n",
    "y_test_df['CustID'] = y_test_df.index\n",
    "# Removing index for both dataframes to append them side by side \n",
    "y_pred_1.reset_index(drop=True, inplace=True)\n",
    "y_test_df.reset_index(drop=True, inplace=True)\n",
    "# Appending y_test_df and y_pred_1\n",
    "y_pred_final = pd.concat([y_test_df,y_pred_1],axis=1)\n",
    "# Renaming the column \n",
    "y_pred_final= y_pred_final.rename(columns={ 1 : 'Conv_Prob'})\n",
    "# Rearranging the columns\n",
    "y_pred_final = y_pred_final.reindex_axis(['CustID','Converted','Conv_Prob'], axis=1)\n",
    "# Let's see the head of y_pred_final\n",
    "y_pred_final.head()"
   ]
  },
  {
   "cell_type": "code",
   "execution_count": 62,
   "metadata": {},
   "outputs": [
    {
     "data": {
      "text/html": [
       "<div>\n",
       "<style scoped>\n",
       "    .dataframe tbody tr th:only-of-type {\n",
       "        vertical-align: middle;\n",
       "    }\n",
       "\n",
       "    .dataframe tbody tr th {\n",
       "        vertical-align: top;\n",
       "    }\n",
       "\n",
       "    .dataframe thead th {\n",
       "        text-align: right;\n",
       "    }\n",
       "</style>\n",
       "<table border=\"1\" class=\"dataframe\">\n",
       "  <thead>\n",
       "    <tr style=\"text-align: right;\">\n",
       "      <th></th>\n",
       "      <th>CustID</th>\n",
       "      <th>Converted</th>\n",
       "      <th>Conv_Prob</th>\n",
       "      <th>predicted</th>\n",
       "    </tr>\n",
       "  </thead>\n",
       "  <tbody>\n",
       "    <tr>\n",
       "      <th>0</th>\n",
       "      <td>3374</td>\n",
       "      <td>0</td>\n",
       "      <td>0.359401</td>\n",
       "      <td>0</td>\n",
       "    </tr>\n",
       "    <tr>\n",
       "      <th>1</th>\n",
       "      <td>4262</td>\n",
       "      <td>0</td>\n",
       "      <td>0.307938</td>\n",
       "      <td>0</td>\n",
       "    </tr>\n",
       "    <tr>\n",
       "      <th>2</th>\n",
       "      <td>7855</td>\n",
       "      <td>0</td>\n",
       "      <td>0.022670</td>\n",
       "      <td>0</td>\n",
       "    </tr>\n",
       "    <tr>\n",
       "      <th>3</th>\n",
       "      <td>3017</td>\n",
       "      <td>1</td>\n",
       "      <td>0.945689</td>\n",
       "      <td>1</td>\n",
       "    </tr>\n",
       "    <tr>\n",
       "      <th>4</th>\n",
       "      <td>560</td>\n",
       "      <td>1</td>\n",
       "      <td>0.897180</td>\n",
       "      <td>1</td>\n",
       "    </tr>\n",
       "  </tbody>\n",
       "</table>\n",
       "</div>"
      ],
      "text/plain": [
       "   CustID  Converted  Conv_Prob  predicted\n",
       "0    3374          0   0.359401          0\n",
       "1    4262          0   0.307938          0\n",
       "2    7855          0   0.022670          0\n",
       "3    3017          1   0.945689          1\n",
       "4     560          1   0.897180          1"
      ]
     },
     "execution_count": 62,
     "metadata": {},
     "output_type": "execute_result"
    }
   ],
   "source": [
    "# Creating new column 'predicted' with 1 if Churn_Prob>0.5 else 0\n",
    "y_pred_final['predicted'] = y_pred_final.Conv_Prob.map( lambda x: 1 if x > 0.5 else 0)\n",
    "# Let's see the head\n",
    "y_pred_final.head()\n",
    "\n",
    "#We have chosen probability cutoff as 0.5 i.e if probability >0.5 then potential lead is likely to convert positively else negative"
   ]
  },
  {
   "cell_type": "code",
   "execution_count": 63,
   "metadata": {},
   "outputs": [],
   "source": [
    "#Importing metrics module to calculate accuracy of the final predicted values\n",
    "from sklearn import metrics"
   ]
  },
  {
   "cell_type": "code",
   "execution_count": 64,
   "metadata": {},
   "outputs": [
    {
     "data": {
      "text/plain": [
       "0.792508262945281"
      ]
     },
     "execution_count": 64,
     "metadata": {},
     "output_type": "execute_result"
    }
   ],
   "source": [
    "metrics.accuracy_score(y_pred_final.Converted, y_pred_final.predicted)\n",
    "\n",
    "#We have achieved 80% of accuracy using selected model."
   ]
  },
  {
   "cell_type": "markdown",
   "metadata": {},
   "source": [
    "Our accuracy of model is 80%"
   ]
  },
  {
   "cell_type": "code",
   "execution_count": 65,
   "metadata": {},
   "outputs": [],
   "source": [
    "#Plotting ROC curve\n",
    "def draw_roc_curve( y_test, pred_proba_test ):        \n",
    "    fpr_test, tpr_test, thresholds = metrics.roc_curve(y_test, pred_proba_test)\n",
    "    #fpr_tr, tpr_tr, thresholds = metrics.roc_curve(y_tr, pred_proba_tr[:,1])\n",
    "    auc_test=metrics.roc_auc_score(y_test,pred_proba_test)\n",
    "    #auc_tr=roc_auc_score(y_tr,pred_proba_tr[:,1])\n",
    "    #plt.plot(fpr_tr, tpr_tr, 'b-', label='Train_ROC= %.2f'  %(auc_tr))\n",
    "    plt.plot(fpr_test, tpr_test, 'r-', label='Test_ROC= %.2f'  %(auc_test))\n",
    "    plt.plot(fpr_test, fpr_test, 'g-', label='x=y')\n",
    "    plt.xlabel('False Positive Rate or [1 - True Negative Rate]')\n",
    "    plt.grid(True)\n",
    "    plt.title('Receiver operating characteristic example')\n",
    "    plt.ylabel('True Positive Rate')\n",
    "    plt.legend(loc='best')\n",
    "    plt.show()\n",
    "    return auc_test"
   ]
  },
  {
   "cell_type": "code",
   "execution_count": 66,
   "metadata": {},
   "outputs": [
    {
     "data": {
      "image/png": "[encoded data removed]",
      "text/plain": [
       "<Figure size 432x288 with 1 Axes>"
      ]
     },
     "metadata": {},
     "output_type": "display_data"
    },
    {
     "name": "stdout",
     "output_type": "stream",
     "text": [
      "0.8514544126493083\n"
     ]
    }
   ],
   "source": [
    "auc_test=draw_roc_curve( y_pred_final.Converted, y_pred_final.Conv_Prob )\n",
    "print(auc_test)"
   ]
  },
  {
   "cell_type": "markdown",
   "metadata": {},
   "source": [
    "### Calculating the precision(Lead Score)"
   ]
  },
  {
   "cell_type": "code",
   "execution_count": 67,
   "metadata": {},
   "outputs": [],
   "source": [
    "#Plotting consfusion matirx to check total positive prediction rate\n",
    "def plotconfusionmatrix(y_test,pred_test):\n",
    "    df=metrics.confusion_matrix(y_test, pred_test);\n",
    "    labels = ['Negative', 'Positive']\n",
    "    ax= plt.subplot()\n",
    "    sns.heatmap(df, annot=True, ax = ax,fmt='g');\n",
    "    ax.set_xlabel('Predicted labels');ax.set_ylabel('True labels');\n",
    "    ax.xaxis.set_ticklabels(labels); ax.yaxis.set_ticklabels(labels);\n",
    "    ax.set_title('Confusion Matrix'); \n",
    "    plt.show();\n",
    "    return df"
   ]
  },
  {
   "cell_type": "code",
   "execution_count": 68,
   "metadata": {},
   "outputs": [
    {
     "data": {
      "image/png": "[encoded data removed]",
      "text/plain": [
       "<Figure size 432x288 with 2 Axes>"
      ]
     },
     "metadata": {},
     "output_type": "display_data"
    }
   ],
   "source": [
    "# Confusion matrix \n",
    "confusion=plotconfusionmatrix( y_pred_final.Converted, y_pred_final.predicted )"
   ]
  },
  {
   "cell_type": "code",
   "execution_count": 69,
   "metadata": {},
   "outputs": [],
   "source": [
    "TP = confusion[1,1] # true positive \n",
    "TN = confusion[0,0] # true negatives\n",
    "FP = confusion[0,1] # false positives\n",
    "FN = confusion[1,0] # false negatives"
   ]
  },
  {
   "cell_type": "code",
   "execution_count": 70,
   "metadata": {},
   "outputs": [
    {
     "data": {
      "text/plain": [
       "0.7293868921775899"
      ]
     },
     "execution_count": 70,
     "metadata": {},
     "output_type": "execute_result"
    }
   ],
   "source": [
    "Precision=TP/(TP+FP)\n",
    "Precision"
   ]
  },
  {
   "cell_type": "markdown",
   "metadata": {},
   "source": [
    "<b> Providing score between 0 and 100 to each customer"
   ]
  },
  {
   "cell_type": "markdown",
   "metadata": {},
   "source": [
    "We can use probability score of Logisitc regression to provide Lead score to each customer "
   ]
  },
  {
   "cell_type": "code",
   "execution_count": 71,
   "metadata": {},
   "outputs": [],
   "source": [
    "df_pca = pca_final.fit_transform(X)\n",
    "\n",
    "# Predicted probabilities\n",
    "y_pred=model_pca.predict_proba(df_pca)\n",
    "# Converting it into dataframe\n",
    "y_pred_df=pd.DataFrame(y_pred)\n",
    "# Converting to column dataframe\n",
    "y_pred_1=y_pred_df.iloc[:,[1]]"
   ]
  },
  {
   "cell_type": "code",
   "execution_count": 72,
   "metadata": {},
   "outputs": [],
   "source": [
    "y_df = pd.DataFrame(y)\n",
    "y_df.head()\n",
    "# Putting CustID to index\n",
    "y_df['CustID'] = y_df.index"
   ]
  },
  {
   "cell_type": "code",
   "execution_count": 73,
   "metadata": {},
   "outputs": [
    {
     "data": {
      "text/html": [
       "<div>\n",
       "<style scoped>\n",
       "    .dataframe tbody tr th:only-of-type {\n",
       "        vertical-align: middle;\n",
       "    }\n",
       "\n",
       "    .dataframe tbody tr th {\n",
       "        vertical-align: top;\n",
       "    }\n",
       "\n",
       "    .dataframe thead th {\n",
       "        text-align: right;\n",
       "    }\n",
       "</style>\n",
       "<table border=\"1\" class=\"dataframe\">\n",
       "  <thead>\n",
       "    <tr style=\"text-align: right;\">\n",
       "      <th></th>\n",
       "      <th>CustID</th>\n",
       "      <th>Converted</th>\n",
       "      <th>Conv_Prob</th>\n",
       "    </tr>\n",
       "  </thead>\n",
       "  <tbody>\n",
       "    <tr>\n",
       "      <th>0</th>\n",
       "      <td>0</td>\n",
       "      <td>0</td>\n",
       "      <td>0.273817</td>\n",
       "    </tr>\n",
       "    <tr>\n",
       "      <th>1</th>\n",
       "      <td>1</td>\n",
       "      <td>0</td>\n",
       "      <td>0.122874</td>\n",
       "    </tr>\n",
       "    <tr>\n",
       "      <th>2</th>\n",
       "      <td>2</td>\n",
       "      <td>1</td>\n",
       "      <td>0.630759</td>\n",
       "    </tr>\n",
       "    <tr>\n",
       "      <th>3</th>\n",
       "      <td>3</td>\n",
       "      <td>0</td>\n",
       "      <td>0.093074</td>\n",
       "    </tr>\n",
       "    <tr>\n",
       "      <th>4</th>\n",
       "      <td>4</td>\n",
       "      <td>1</td>\n",
       "      <td>0.354096</td>\n",
       "    </tr>\n",
       "  </tbody>\n",
       "</table>\n",
       "</div>"
      ],
      "text/plain": [
       "   CustID  Converted  Conv_Prob\n",
       "0       0          0   0.273817\n",
       "1       1          0   0.122874\n",
       "2       2          1   0.630759\n",
       "3       3          0   0.093074\n",
       "4       4          1   0.354096"
      ]
     },
     "execution_count": 73,
     "metadata": {},
     "output_type": "execute_result"
    }
   ],
   "source": [
    "# Removing index for both dataframes to append them side by side \n",
    "y_pred_1.reset_index(drop=True, inplace=True)\n",
    "y_df.reset_index(drop=True, inplace=True)\n",
    "# Appending y_df and y_pred_1\n",
    "y_pred_final = pd.concat([y_df,y_pred_1],axis=1)\n",
    "# Renaming the column \n",
    "y_pred_final= y_pred_final.rename(columns={ 1 : 'Conv_Prob'})\n",
    "# Rearranging the columns\n",
    "y_pred_final = y_pred_final.reindex_axis(['CustID','Converted','Conv_Prob'], axis=1)\n",
    "# Let's see the head of y_pred_final\n",
    "y_pred_final.head()"
   ]
  },
  {
   "cell_type": "code",
   "execution_count": 74,
   "metadata": {},
   "outputs": [
    {
     "data": {
      "text/html": [
       "<div>\n",
       "<style scoped>\n",
       "    .dataframe tbody tr th:only-of-type {\n",
       "        vertical-align: middle;\n",
       "    }\n",
       "\n",
       "    .dataframe tbody tr th {\n",
       "        vertical-align: top;\n",
       "    }\n",
       "\n",
       "    .dataframe thead th {\n",
       "        text-align: right;\n",
       "    }\n",
       "</style>\n",
       "<table border=\"1\" class=\"dataframe\">\n",
       "  <thead>\n",
       "    <tr style=\"text-align: right;\">\n",
       "      <th></th>\n",
       "      <th>CustID</th>\n",
       "      <th>Converted</th>\n",
       "      <th>Conv_Prob</th>\n",
       "      <th>predicted</th>\n",
       "    </tr>\n",
       "  </thead>\n",
       "  <tbody>\n",
       "    <tr>\n",
       "      <th>0</th>\n",
       "      <td>0</td>\n",
       "      <td>0</td>\n",
       "      <td>0.273817</td>\n",
       "      <td>0</td>\n",
       "    </tr>\n",
       "    <tr>\n",
       "      <th>1</th>\n",
       "      <td>1</td>\n",
       "      <td>0</td>\n",
       "      <td>0.122874</td>\n",
       "      <td>0</td>\n",
       "    </tr>\n",
       "    <tr>\n",
       "      <th>2</th>\n",
       "      <td>2</td>\n",
       "      <td>1</td>\n",
       "      <td>0.630759</td>\n",
       "      <td>1</td>\n",
       "    </tr>\n",
       "    <tr>\n",
       "      <th>3</th>\n",
       "      <td>3</td>\n",
       "      <td>0</td>\n",
       "      <td>0.093074</td>\n",
       "      <td>0</td>\n",
       "    </tr>\n",
       "    <tr>\n",
       "      <th>4</th>\n",
       "      <td>4</td>\n",
       "      <td>1</td>\n",
       "      <td>0.354096</td>\n",
       "      <td>0</td>\n",
       "    </tr>\n",
       "  </tbody>\n",
       "</table>\n",
       "</div>"
      ],
      "text/plain": [
       "   CustID  Converted  Conv_Prob  predicted\n",
       "0       0          0   0.273817          0\n",
       "1       1          0   0.122874          0\n",
       "2       2          1   0.630759          1\n",
       "3       3          0   0.093074          0\n",
       "4       4          1   0.354096          0"
      ]
     },
     "execution_count": 74,
     "metadata": {},
     "output_type": "execute_result"
    }
   ],
   "source": [
    "# Creating new column 'predicted' with 1 if Churn_Prob>0.5 else 0\n",
    "y_pred_final['predicted'] = y_pred_final.Conv_Prob.map( lambda x: 1 if x > 0.5 else 0)\n",
    "# Let's see the head\n",
    "y_pred_final.head()"
   ]
  },
  {
   "cell_type": "code",
   "execution_count": 75,
   "metadata": {},
   "outputs": [
    {
     "data": {
      "text/plain": [
       "(9074, 4)"
      ]
     },
     "execution_count": 75,
     "metadata": {},
     "output_type": "execute_result"
    }
   ],
   "source": [
    "#Inspecting final data set of predicted lead score\n",
    "y_pred_final.shape"
   ]
  },
  {
   "cell_type": "code",
   "execution_count": 76,
   "metadata": {},
   "outputs": [],
   "source": [
    "#Setting unique index\n",
    "df_Id=df_Id.reset_index()"
   ]
  },
  {
   "cell_type": "code",
   "execution_count": 77,
   "metadata": {},
   "outputs": [],
   "source": [
    "#Converting lead score into percentage\n",
    "df_Id['Lead Score']=round(y_pred_final['Conv_Prob']*100)\n",
    "df_Id['Converted']=y_pred_final['Converted']"
   ]
  },
  {
   "cell_type": "code",
   "execution_count": 78,
   "metadata": {},
   "outputs": [
    {
     "data": {
      "text/html": [
       "<div>\n",
       "<style scoped>\n",
       "    .dataframe tbody tr th:only-of-type {\n",
       "        vertical-align: middle;\n",
       "    }\n",
       "\n",
       "    .dataframe tbody tr th {\n",
       "        vertical-align: top;\n",
       "    }\n",
       "\n",
       "    .dataframe thead th {\n",
       "        text-align: right;\n",
       "    }\n",
       "</style>\n",
       "<table border=\"1\" class=\"dataframe\">\n",
       "  <thead>\n",
       "    <tr style=\"text-align: right;\">\n",
       "      <th></th>\n",
       "      <th>index</th>\n",
       "      <th>Prospect ID</th>\n",
       "      <th>Lead Number</th>\n",
       "      <th>Lead Score</th>\n",
       "      <th>Converted</th>\n",
       "    </tr>\n",
       "  </thead>\n",
       "  <tbody>\n",
       "    <tr>\n",
       "      <th>0</th>\n",
       "      <td>0</td>\n",
       "      <td>7927b2df-8bba-4d29-b9a2-b6e0beafe620</td>\n",
       "      <td>660737</td>\n",
       "      <td>27.0</td>\n",
       "      <td>0</td>\n",
       "    </tr>\n",
       "    <tr>\n",
       "      <th>1</th>\n",
       "      <td>1</td>\n",
       "      <td>2a272436-5132-4136-86fa-dcc88c88f482</td>\n",
       "      <td>660728</td>\n",
       "      <td>12.0</td>\n",
       "      <td>0</td>\n",
       "    </tr>\n",
       "    <tr>\n",
       "      <th>2</th>\n",
       "      <td>2</td>\n",
       "      <td>8cc8c611-a219-4f35-ad23-fdfd2656bd8a</td>\n",
       "      <td>660727</td>\n",
       "      <td>63.0</td>\n",
       "      <td>1</td>\n",
       "    </tr>\n",
       "    <tr>\n",
       "      <th>3</th>\n",
       "      <td>3</td>\n",
       "      <td>0cc2df48-7cf4-4e39-9de9-19797f9b38cc</td>\n",
       "      <td>660719</td>\n",
       "      <td>9.0</td>\n",
       "      <td>0</td>\n",
       "    </tr>\n",
       "    <tr>\n",
       "      <th>4</th>\n",
       "      <td>4</td>\n",
       "      <td>3256f628-e534-4826-9d63-4a8b88782852</td>\n",
       "      <td>660681</td>\n",
       "      <td>35.0</td>\n",
       "      <td>1</td>\n",
       "    </tr>\n",
       "    <tr>\n",
       "      <th>5</th>\n",
       "      <td>5</td>\n",
       "      <td>2058ef08-2858-443e-a01f-a9237db2f5ce</td>\n",
       "      <td>660680</td>\n",
       "      <td>19.0</td>\n",
       "      <td>0</td>\n",
       "    </tr>\n",
       "    <tr>\n",
       "      <th>6</th>\n",
       "      <td>6</td>\n",
       "      <td>9fae7df4-169d-489b-afe4-0f3d752542ed</td>\n",
       "      <td>660673</td>\n",
       "      <td>50.0</td>\n",
       "      <td>1</td>\n",
       "    </tr>\n",
       "    <tr>\n",
       "      <th>7</th>\n",
       "      <td>7</td>\n",
       "      <td>20ef72a2-fb3b-45e0-924e-551c5fa59095</td>\n",
       "      <td>660664</td>\n",
       "      <td>19.0</td>\n",
       "      <td>0</td>\n",
       "    </tr>\n",
       "    <tr>\n",
       "      <th>8</th>\n",
       "      <td>8</td>\n",
       "      <td>cfa0128c-a0da-4656-9d47-0aa4e67bf690</td>\n",
       "      <td>660624</td>\n",
       "      <td>11.0</td>\n",
       "      <td>0</td>\n",
       "    </tr>\n",
       "    <tr>\n",
       "      <th>9</th>\n",
       "      <td>9</td>\n",
       "      <td>af465dfc-7204-4130-9e05-33231863c4b5</td>\n",
       "      <td>660616</td>\n",
       "      <td>13.0</td>\n",
       "      <td>0</td>\n",
       "    </tr>\n",
       "    <tr>\n",
       "      <th>10</th>\n",
       "      <td>10</td>\n",
       "      <td>2a369e35-ca95-4ca9-9e4f-9d27175aa320</td>\n",
       "      <td>660608</td>\n",
       "      <td>39.0</td>\n",
       "      <td>1</td>\n",
       "    </tr>\n",
       "    <tr>\n",
       "      <th>11</th>\n",
       "      <td>11</td>\n",
       "      <td>9bc8ce93-6144-49e0-9f9d-080fc980f83c</td>\n",
       "      <td>660570</td>\n",
       "      <td>85.0</td>\n",
       "      <td>1</td>\n",
       "    </tr>\n",
       "    <tr>\n",
       "      <th>12</th>\n",
       "      <td>12</td>\n",
       "      <td>8bf76a52-2478-476b-8618-1688e07874ad</td>\n",
       "      <td>660562</td>\n",
       "      <td>27.0</td>\n",
       "      <td>1</td>\n",
       "    </tr>\n",
       "    <tr>\n",
       "      <th>13</th>\n",
       "      <td>13</td>\n",
       "      <td>88867067-3750-4753-8d33-1c7d1db53b5e</td>\n",
       "      <td>660558</td>\n",
       "      <td>5.0</td>\n",
       "      <td>0</td>\n",
       "    </tr>\n",
       "    <tr>\n",
       "      <th>14</th>\n",
       "      <td>14</td>\n",
       "      <td>a8531c22-fcf1-48f8-a711-fb5abf98ad87</td>\n",
       "      <td>660553</td>\n",
       "      <td>10.0</td>\n",
       "      <td>0</td>\n",
       "    </tr>\n",
       "    <tr>\n",
       "      <th>15</th>\n",
       "      <td>15</td>\n",
       "      <td>25f4ac14-ff4b-4cd2-9c61-b44c85e19c8f</td>\n",
       "      <td>660547</td>\n",
       "      <td>20.0</td>\n",
       "      <td>1</td>\n",
       "    </tr>\n",
       "    <tr>\n",
       "      <th>16</th>\n",
       "      <td>16</td>\n",
       "      <td>3abb7c77-1634-4083-9a9f-861068220611</td>\n",
       "      <td>660540</td>\n",
       "      <td>19.0</td>\n",
       "      <td>0</td>\n",
       "    </tr>\n",
       "    <tr>\n",
       "      <th>17</th>\n",
       "      <td>17</td>\n",
       "      <td>e5c3beca-a0b6-4b3f-8c01-0919fb9ca3f2</td>\n",
       "      <td>660534</td>\n",
       "      <td>72.0</td>\n",
       "      <td>0</td>\n",
       "    </tr>\n",
       "    <tr>\n",
       "      <th>18</th>\n",
       "      <td>18</td>\n",
       "      <td>82cb5fb0-2d97-4a39-a630-ab5fe2e7f18c</td>\n",
       "      <td>660522</td>\n",
       "      <td>92.0</td>\n",
       "      <td>1</td>\n",
       "    </tr>\n",
       "    <tr>\n",
       "      <th>19</th>\n",
       "      <td>19</td>\n",
       "      <td>4512c16a-e96a-4459-b9ec-c7d8fe8c4880</td>\n",
       "      <td>660509</td>\n",
       "      <td>2.0</td>\n",
       "      <td>0</td>\n",
       "    </tr>\n",
       "    <tr>\n",
       "      <th>20</th>\n",
       "      <td>20</td>\n",
       "      <td>c4419c99-b002-408b-a6fd-fa100716592c</td>\n",
       "      <td>660479</td>\n",
       "      <td>9.0</td>\n",
       "      <td>0</td>\n",
       "    </tr>\n",
       "    <tr>\n",
       "      <th>21</th>\n",
       "      <td>21</td>\n",
       "      <td>fd71ab5b-53b8-4105-9960-efedc44962fa</td>\n",
       "      <td>660478</td>\n",
       "      <td>12.0</td>\n",
       "      <td>0</td>\n",
       "    </tr>\n",
       "    <tr>\n",
       "      <th>22</th>\n",
       "      <td>22</td>\n",
       "      <td>8fd38b83-5c32-4277-bcfb-499f34a01c56</td>\n",
       "      <td>660471</td>\n",
       "      <td>18.0</td>\n",
       "      <td>1</td>\n",
       "    </tr>\n",
       "    <tr>\n",
       "      <th>23</th>\n",
       "      <td>23</td>\n",
       "      <td>ecbc6e69-29a9-44bf-804a-13079ef301bc</td>\n",
       "      <td>660461</td>\n",
       "      <td>94.0</td>\n",
       "      <td>0</td>\n",
       "    </tr>\n",
       "    <tr>\n",
       "      <th>24</th>\n",
       "      <td>24</td>\n",
       "      <td>ecd117ca-375f-49ea-afd6-b52b84d00c69</td>\n",
       "      <td>660458</td>\n",
       "      <td>57.0</td>\n",
       "      <td>1</td>\n",
       "    </tr>\n",
       "    <tr>\n",
       "      <th>25</th>\n",
       "      <td>25</td>\n",
       "      <td>31c326f0-4a9b-43a6-9006-99d3830fbcae</td>\n",
       "      <td>660447</td>\n",
       "      <td>37.0</td>\n",
       "      <td>1</td>\n",
       "    </tr>\n",
       "    <tr>\n",
       "      <th>26</th>\n",
       "      <td>26</td>\n",
       "      <td>c494aca4-8c8e-4081-9784-41eb6346015e</td>\n",
       "      <td>660432</td>\n",
       "      <td>20.0</td>\n",
       "      <td>1</td>\n",
       "    </tr>\n",
       "    <tr>\n",
       "      <th>27</th>\n",
       "      <td>27</td>\n",
       "      <td>6d143c0e-abae-425f-a2c0-52c2946cbd45</td>\n",
       "      <td>660424</td>\n",
       "      <td>70.0</td>\n",
       "      <td>1</td>\n",
       "    </tr>\n",
       "    <tr>\n",
       "      <th>28</th>\n",
       "      <td>28</td>\n",
       "      <td>8247051c-f838-4a41-b39c-1f0b44c3d5e6</td>\n",
       "      <td>660423</td>\n",
       "      <td>19.0</td>\n",
       "      <td>0</td>\n",
       "    </tr>\n",
       "    <tr>\n",
       "      <th>29</th>\n",
       "      <td>29</td>\n",
       "      <td>b3455e2e-8236-478a-b1aa-666ad3381722</td>\n",
       "      <td>660410</td>\n",
       "      <td>24.0</td>\n",
       "      <td>1</td>\n",
       "    </tr>\n",
       "    <tr>\n",
       "      <th>...</th>\n",
       "      <td>...</td>\n",
       "      <td>...</td>\n",
       "      <td>...</td>\n",
       "      <td>...</td>\n",
       "      <td>...</td>\n",
       "    </tr>\n",
       "    <tr>\n",
       "      <th>9044</th>\n",
       "      <td>9210</td>\n",
       "      <td>14ac6418-af18-4acd-b464-02f6e0fefa1c</td>\n",
       "      <td>579833</td>\n",
       "      <td>60.0</td>\n",
       "      <td>1</td>\n",
       "    </tr>\n",
       "    <tr>\n",
       "      <th>9045</th>\n",
       "      <td>9211</td>\n",
       "      <td>8458b410-48fe-4bcd-aecf-5813b6006ee2</td>\n",
       "      <td>579832</td>\n",
       "      <td>90.0</td>\n",
       "      <td>1</td>\n",
       "    </tr>\n",
       "    <tr>\n",
       "      <th>9046</th>\n",
       "      <td>9212</td>\n",
       "      <td>0c15052a-9f8a-47c4-9fc3-eb20c84ffd74</td>\n",
       "      <td>579830</td>\n",
       "      <td>12.0</td>\n",
       "      <td>0</td>\n",
       "    </tr>\n",
       "    <tr>\n",
       "      <th>9047</th>\n",
       "      <td>9213</td>\n",
       "      <td>d4587acb-02d1-4c5e-9110-6032d829bac1</td>\n",
       "      <td>579822</td>\n",
       "      <td>5.0</td>\n",
       "      <td>0</td>\n",
       "    </tr>\n",
       "    <tr>\n",
       "      <th>9048</th>\n",
       "      <td>9214</td>\n",
       "      <td>479a8b1c-d410-4220-a24f-854a376be43d</td>\n",
       "      <td>579808</td>\n",
       "      <td>53.0</td>\n",
       "      <td>1</td>\n",
       "    </tr>\n",
       "    <tr>\n",
       "      <th>9049</th>\n",
       "      <td>9215</td>\n",
       "      <td>06334ac1-64a8-444c-92a7-117dcd26dea5</td>\n",
       "      <td>579802</td>\n",
       "      <td>10.0</td>\n",
       "      <td>0</td>\n",
       "    </tr>\n",
       "    <tr>\n",
       "      <th>9050</th>\n",
       "      <td>9216</td>\n",
       "      <td>6da5be9f-3f34-4dc7-9e30-7c26d030372e</td>\n",
       "      <td>579799</td>\n",
       "      <td>37.0</td>\n",
       "      <td>0</td>\n",
       "    </tr>\n",
       "    <tr>\n",
       "      <th>9051</th>\n",
       "      <td>9217</td>\n",
       "      <td>b8872c12-7534-498d-8f4a-e79a19516db1</td>\n",
       "      <td>579786</td>\n",
       "      <td>87.0</td>\n",
       "      <td>0</td>\n",
       "    </tr>\n",
       "    <tr>\n",
       "      <th>9052</th>\n",
       "      <td>9218</td>\n",
       "      <td>eee466be-b98c-4126-9220-fc406093b9ce</td>\n",
       "      <td>579784</td>\n",
       "      <td>2.0</td>\n",
       "      <td>0</td>\n",
       "    </tr>\n",
       "    <tr>\n",
       "      <th>9053</th>\n",
       "      <td>9219</td>\n",
       "      <td>9c970d5c-2748-4f61-90a6-eafd9ad5a242</td>\n",
       "      <td>579778</td>\n",
       "      <td>66.0</td>\n",
       "      <td>1</td>\n",
       "    </tr>\n",
       "    <tr>\n",
       "      <th>9054</th>\n",
       "      <td>9220</td>\n",
       "      <td>679ab5f9-0f85-4f16-a903-821ecd82e731</td>\n",
       "      <td>579769</td>\n",
       "      <td>14.0</td>\n",
       "      <td>0</td>\n",
       "    </tr>\n",
       "    <tr>\n",
       "      <th>9055</th>\n",
       "      <td>9221</td>\n",
       "      <td>b92509cd-7f4c-414e-a8af-eb9cf0c89da7</td>\n",
       "      <td>579767</td>\n",
       "      <td>94.0</td>\n",
       "      <td>0</td>\n",
       "    </tr>\n",
       "    <tr>\n",
       "      <th>9056</th>\n",
       "      <td>9222</td>\n",
       "      <td>68e53bdc-b66d-48ef-8592-973a8a65377e</td>\n",
       "      <td>579764</td>\n",
       "      <td>19.0</td>\n",
       "      <td>0</td>\n",
       "    </tr>\n",
       "    <tr>\n",
       "      <th>9057</th>\n",
       "      <td>9223</td>\n",
       "      <td>c55de92b-9295-40e1-90e8-a628c349c292</td>\n",
       "      <td>579755</td>\n",
       "      <td>2.0</td>\n",
       "      <td>0</td>\n",
       "    </tr>\n",
       "    <tr>\n",
       "      <th>9058</th>\n",
       "      <td>9224</td>\n",
       "      <td>18930f11-41cd-42d1-96d7-34ac870174cb</td>\n",
       "      <td>579753</td>\n",
       "      <td>18.0</td>\n",
       "      <td>0</td>\n",
       "    </tr>\n",
       "    <tr>\n",
       "      <th>9059</th>\n",
       "      <td>9225</td>\n",
       "      <td>787ab5f4-6f09-41c0-b083-55521ca23f8a</td>\n",
       "      <td>579744</td>\n",
       "      <td>1.0</td>\n",
       "      <td>0</td>\n",
       "    </tr>\n",
       "    <tr>\n",
       "      <th>9060</th>\n",
       "      <td>9226</td>\n",
       "      <td>c3bb1471-53d5-4244-b2e5-4bbb543835c1</td>\n",
       "      <td>579735</td>\n",
       "      <td>43.0</td>\n",
       "      <td>0</td>\n",
       "    </tr>\n",
       "    <tr>\n",
       "      <th>9061</th>\n",
       "      <td>9227</td>\n",
       "      <td>ac95586a-506a-4222-9967-17dfe9f82524</td>\n",
       "      <td>579728</td>\n",
       "      <td>70.0</td>\n",
       "      <td>1</td>\n",
       "    </tr>\n",
       "    <tr>\n",
       "      <th>9062</th>\n",
       "      <td>9228</td>\n",
       "      <td>40d3b3cf-d939-49ff-bea5-60e8d4025104</td>\n",
       "      <td>579717</td>\n",
       "      <td>84.0</td>\n",
       "      <td>1</td>\n",
       "    </tr>\n",
       "    <tr>\n",
       "      <th>9063</th>\n",
       "      <td>9229</td>\n",
       "      <td>5cfdd915-d5a0-4976-b38d-e5f72ec55526</td>\n",
       "      <td>579712</td>\n",
       "      <td>51.0</td>\n",
       "      <td>1</td>\n",
       "    </tr>\n",
       "    <tr>\n",
       "      <th>9064</th>\n",
       "      <td>9230</td>\n",
       "      <td>d11c15b7-8056-45a6-8954-771c0d0495fe</td>\n",
       "      <td>579701</td>\n",
       "      <td>42.0</td>\n",
       "      <td>0</td>\n",
       "    </tr>\n",
       "    <tr>\n",
       "      <th>9065</th>\n",
       "      <td>9231</td>\n",
       "      <td>4aeae36b-2b57-494f-bdab-dd58844286b4</td>\n",
       "      <td>579697</td>\n",
       "      <td>67.0</td>\n",
       "      <td>1</td>\n",
       "    </tr>\n",
       "    <tr>\n",
       "      <th>9066</th>\n",
       "      <td>9232</td>\n",
       "      <td>2d0109e9-dfb2-4664-83de-c2ea75ec7516</td>\n",
       "      <td>579642</td>\n",
       "      <td>96.0</td>\n",
       "      <td>0</td>\n",
       "    </tr>\n",
       "    <tr>\n",
       "      <th>9067</th>\n",
       "      <td>9233</td>\n",
       "      <td>3f715465-2546-47cd-afa8-8b8dc63b8b43</td>\n",
       "      <td>579622</td>\n",
       "      <td>98.0</td>\n",
       "      <td>1</td>\n",
       "    </tr>\n",
       "    <tr>\n",
       "      <th>9068</th>\n",
       "      <td>9234</td>\n",
       "      <td>c0b25922-511f-4c56-852e-ced210a45447</td>\n",
       "      <td>579615</td>\n",
       "      <td>21.0</td>\n",
       "      <td>1</td>\n",
       "    </tr>\n",
       "    <tr>\n",
       "      <th>9069</th>\n",
       "      <td>9235</td>\n",
       "      <td>19d6451e-fcd6-407c-b83b-48e1af805ea9</td>\n",
       "      <td>579564</td>\n",
       "      <td>86.0</td>\n",
       "      <td>1</td>\n",
       "    </tr>\n",
       "    <tr>\n",
       "      <th>9070</th>\n",
       "      <td>9236</td>\n",
       "      <td>82a7005b-7196-4d56-95ce-a79f937a158d</td>\n",
       "      <td>579546</td>\n",
       "      <td>57.0</td>\n",
       "      <td>0</td>\n",
       "    </tr>\n",
       "    <tr>\n",
       "      <th>9071</th>\n",
       "      <td>9237</td>\n",
       "      <td>aac550fe-a586-452d-8d3c-f1b62c94e02c</td>\n",
       "      <td>579545</td>\n",
       "      <td>32.0</td>\n",
       "      <td>0</td>\n",
       "    </tr>\n",
       "    <tr>\n",
       "      <th>9072</th>\n",
       "      <td>9238</td>\n",
       "      <td>5330a7d1-2f2b-4df4-85d6-64ca2f6b95b9</td>\n",
       "      <td>579538</td>\n",
       "      <td>77.0</td>\n",
       "      <td>1</td>\n",
       "    </tr>\n",
       "    <tr>\n",
       "      <th>9073</th>\n",
       "      <td>9239</td>\n",
       "      <td>571b5c8e-a5b2-4d57-8574-f2ffb06fdeff</td>\n",
       "      <td>579533</td>\n",
       "      <td>63.0</td>\n",
       "      <td>1</td>\n",
       "    </tr>\n",
       "  </tbody>\n",
       "</table>\n",
       "<p>9074 rows × 5 columns</p>\n",
       "</div>"
      ],
      "text/plain": [
       "      index                           Prospect ID  Lead Number  Lead Score  \\\n",
       "0         0  7927b2df-8bba-4d29-b9a2-b6e0beafe620       660737        27.0   \n",
       "1         1  2a272436-5132-4136-86fa-dcc88c88f482       660728        12.0   \n",
       "2         2  8cc8c611-a219-4f35-ad23-fdfd2656bd8a       660727        63.0   \n",
       "3         3  0cc2df48-7cf4-4e39-9de9-19797f9b38cc       660719         9.0   \n",
       "4         4  3256f628-e534-4826-9d63-4a8b88782852       660681        35.0   \n",
       "5         5  2058ef08-2858-443e-a01f-a9237db2f5ce       660680        19.0   \n",
       "6         6  9fae7df4-169d-489b-afe4-0f3d752542ed       660673        50.0   \n",
       "7         7  20ef72a2-fb3b-45e0-924e-551c5fa59095       660664        19.0   \n",
       "8         8  cfa0128c-a0da-4656-9d47-0aa4e67bf690       660624        11.0   \n",
       "9         9  af465dfc-7204-4130-9e05-33231863c4b5       660616        13.0   \n",
       "10       10  2a369e35-ca95-4ca9-9e4f-9d27175aa320       660608        39.0   \n",
       "11       11  9bc8ce93-6144-49e0-9f9d-080fc980f83c       660570        85.0   \n",
       "12       12  8bf76a52-2478-476b-8618-1688e07874ad       660562        27.0   \n",
       "13       13  88867067-3750-4753-8d33-1c7d1db53b5e       660558         5.0   \n",
       "14       14  a8531c22-fcf1-48f8-a711-fb5abf98ad87       660553        10.0   \n",
       "15       15  25f4ac14-ff4b-4cd2-9c61-b44c85e19c8f       660547        20.0   \n",
       "16       16  3abb7c77-1634-4083-9a9f-861068220611       660540        19.0   \n",
       "17       17  e5c3beca-a0b6-4b3f-8c01-0919fb9ca3f2       660534        72.0   \n",
       "18       18  82cb5fb0-2d97-4a39-a630-ab5fe2e7f18c       660522        92.0   \n",
       "19       19  4512c16a-e96a-4459-b9ec-c7d8fe8c4880       660509         2.0   \n",
       "20       20  c4419c99-b002-408b-a6fd-fa100716592c       660479         9.0   \n",
       "21       21  fd71ab5b-53b8-4105-9960-efedc44962fa       660478        12.0   \n",
       "22       22  8fd38b83-5c32-4277-bcfb-499f34a01c56       660471        18.0   \n",
       "23       23  ecbc6e69-29a9-44bf-804a-13079ef301bc       660461        94.0   \n",
       "24       24  ecd117ca-375f-49ea-afd6-b52b84d00c69       660458        57.0   \n",
       "25       25  31c326f0-4a9b-43a6-9006-99d3830fbcae       660447        37.0   \n",
       "26       26  c494aca4-8c8e-4081-9784-41eb6346015e       660432        20.0   \n",
       "27       27  6d143c0e-abae-425f-a2c0-52c2946cbd45       660424        70.0   \n",
       "28       28  8247051c-f838-4a41-b39c-1f0b44c3d5e6       660423        19.0   \n",
       "29       29  b3455e2e-8236-478a-b1aa-666ad3381722       660410        24.0   \n",
       "...     ...                                   ...          ...         ...   \n",
       "9044   9210  14ac6418-af18-4acd-b464-02f6e0fefa1c       579833        60.0   \n",
       "9045   9211  8458b410-48fe-4bcd-aecf-5813b6006ee2       579832        90.0   \n",
       "9046   9212  0c15052a-9f8a-47c4-9fc3-eb20c84ffd74       579830        12.0   \n",
       "9047   9213  d4587acb-02d1-4c5e-9110-6032d829bac1       579822         5.0   \n",
       "9048   9214  479a8b1c-d410-4220-a24f-854a376be43d       579808        53.0   \n",
       "9049   9215  06334ac1-64a8-444c-92a7-117dcd26dea5       579802        10.0   \n",
       "9050   9216  6da5be9f-3f34-4dc7-9e30-7c26d030372e       579799        37.0   \n",
       "9051   9217  b8872c12-7534-498d-8f4a-e79a19516db1       579786        87.0   \n",
       "9052   9218  eee466be-b98c-4126-9220-fc406093b9ce       579784         2.0   \n",
       "9053   9219  9c970d5c-2748-4f61-90a6-eafd9ad5a242       579778        66.0   \n",
       "9054   9220  679ab5f9-0f85-4f16-a903-821ecd82e731       579769        14.0   \n",
       "9055   9221  b92509cd-7f4c-414e-a8af-eb9cf0c89da7       579767        94.0   \n",
       "9056   9222  68e53bdc-b66d-48ef-8592-973a8a65377e       579764        19.0   \n",
       "9057   9223  c55de92b-9295-40e1-90e8-a628c349c292       579755         2.0   \n",
       "9058   9224  18930f11-41cd-42d1-96d7-34ac870174cb       579753        18.0   \n",
       "9059   9225  787ab5f4-6f09-41c0-b083-55521ca23f8a       579744         1.0   \n",
       "9060   9226  c3bb1471-53d5-4244-b2e5-4bbb543835c1       579735        43.0   \n",
       "9061   9227  ac95586a-506a-4222-9967-17dfe9f82524       579728        70.0   \n",
       "9062   9228  40d3b3cf-d939-49ff-bea5-60e8d4025104       579717        84.0   \n",
       "9063   9229  5cfdd915-d5a0-4976-b38d-e5f72ec55526       579712        51.0   \n",
       "9064   9230  d11c15b7-8056-45a6-8954-771c0d0495fe       579701        42.0   \n",
       "9065   9231  4aeae36b-2b57-494f-bdab-dd58844286b4       579697        67.0   \n",
       "9066   9232  2d0109e9-dfb2-4664-83de-c2ea75ec7516       579642        96.0   \n",
       "9067   9233  3f715465-2546-47cd-afa8-8b8dc63b8b43       579622        98.0   \n",
       "9068   9234  c0b25922-511f-4c56-852e-ced210a45447       579615        21.0   \n",
       "9069   9235  19d6451e-fcd6-407c-b83b-48e1af805ea9       579564        86.0   \n",
       "9070   9236  82a7005b-7196-4d56-95ce-a79f937a158d       579546        57.0   \n",
       "9071   9237  aac550fe-a586-452d-8d3c-f1b62c94e02c       579545        32.0   \n",
       "9072   9238  5330a7d1-2f2b-4df4-85d6-64ca2f6b95b9       579538        77.0   \n",
       "9073   9239  571b5c8e-a5b2-4d57-8574-f2ffb06fdeff       579533        63.0   \n",
       "\n",
       "      Converted  \n",
       "0             0  \n",
       "1             0  \n",
       "2             1  \n",
       "3             0  \n",
       "4             1  \n",
       "5             0  \n",
       "6             1  \n",
       "7             0  \n",
       "8             0  \n",
       "9             0  \n",
       "10            1  \n",
       "11            1  \n",
       "12            1  \n",
       "13            0  \n",
       "14            0  \n",
       "15            1  \n",
       "16            0  \n",
       "17            0  \n",
       "18            1  \n",
       "19            0  \n",
       "20            0  \n",
       "21            0  \n",
       "22            1  \n",
       "23            0  \n",
       "24            1  \n",
       "25            1  \n",
       "26            1  \n",
       "27            1  \n",
       "28            0  \n",
       "29            1  \n",
       "...         ...  \n",
       "9044          1  \n",
       "9045          1  \n",
       "9046          0  \n",
       "9047          0  \n",
       "9048          1  \n",
       "9049          0  \n",
       "9050          0  \n",
       "9051          0  \n",
       "9052          0  \n",
       "9053          1  \n",
       "9054          0  \n",
       "9055          0  \n",
       "9056          0  \n",
       "9057          0  \n",
       "9058          0  \n",
       "9059          0  \n",
       "9060          0  \n",
       "9061          1  \n",
       "9062          1  \n",
       "9063          1  \n",
       "9064          0  \n",
       "9065          1  \n",
       "9066          0  \n",
       "9067          1  \n",
       "9068          1  \n",
       "9069          1  \n",
       "9070          0  \n",
       "9071          0  \n",
       "9072          1  \n",
       "9073          1  \n",
       "\n",
       "[9074 rows x 5 columns]"
      ]
     },
     "execution_count": 78,
     "metadata": {},
     "output_type": "execute_result"
    }
   ],
   "source": [
    "#Final data frame which has lead score associated with each lead number and Converted output variable which shows whether \n",
    "#they will be converting positively or not.\n",
    "df_Id"
   ]
  }
 ],
 "metadata": {
  "kernelspec": {
   "display_name": "Python 3",
   "language": "python",
   "name": "python3"
  },
  "language_info": {
   "codemirror_mode": {
    "name": "ipython",
    "version": 3
   },
   "file_extension": ".py",
   "mimetype": "text/x-python",
   "name": "python",
   "nbconvert_exporter": "python",
   "pygments_lexer": "ipython3",
   "version": "3.6.5"
  },
  "varInspector": {
   "cols": {
    "lenName": 16,
    "lenType": 16,
    "lenVar": 40
   },
   "kernels_config": {
    "python": {
     "delete_cmd_postfix": "",
     "delete_cmd_prefix": "del ",
     "library": "var_list.py",
     "varRefreshCmd": "print(var_dic_list())"
    },
    "r": {
     "delete_cmd_postfix": ") ",
     "delete_cmd_prefix": "rm(",
     "library": "var_list.r",
     "varRefreshCmd": "cat(var_dic_list()) "
    }
   },
   "oldHeight": 338,
   "position": {
    "height": "40px",
    "left": "996px",
    "right": "20px",
    "top": "120px",
    "width": "323px"
   },
   "types_to_exclude": [
    "module",
    "function",
    "builtin_function_or_method",
    "instance",
    "_Feature"
   ],
   "varInspector_section_display": "none",
   "window_display": true
  }
 },
 "nbformat": 4,
 "nbformat_minor": 2
}
